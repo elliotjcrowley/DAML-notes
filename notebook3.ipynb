{
 "cells": [
  {
   "cell_type": "markdown",
   "id": "0bd4f525",
   "metadata": {},
   "source": [
    "# DAML  notes\n",
    "## 3. Preprocessing, PCA, clustering\n",
    "<hr style=\"border:2px solid black\"> </hr>"
   ]
  },
  {
   "cell_type": "markdown",
   "id": "75f7e27d",
   "metadata": {},
   "source": [
    "## 3.1 Sklearn and a quick note\n",
    "\n",
    "Sklearn (or Scikit-learn) is a high-level machine learning (ML) library for Python. It integrates with NumPy for arrays, SciPy for optimisation, and Pandas for dataframes (tabular data). It is really, really good and we will use it heavily in this course. It is high level, which lets us spend less time hacking together algorithms ourselves, and more time seeing how they work on data.\n",
    "\n",
    "Sklearn lets us perform PCA and K-means. \"But we haven't got to the ML part of the course. What are they doing a machine learning library?\" I hear you say. Well, some people do consider them to be *unsupervised machine learning* techniques, and other people don't. \n",
    "\n",
    "\n",
    "\n",
    "Sometimes they form part of a pipeline that eventually involves some ML. For narrative convenience, we will call them **exploratory data analysis** techniques, and leave it as that.\n",
    "\n",
    "## 3.2 Preprocessing\n",
    "\n",
    "### 3.2.1 Vectors and matrices\n",
    "\n",
    "Many data analysis and machine learning techniques require us to represent our data points as vectors of real values, each of the same dimensionality $D$. The elements of these vectors correspond to variables, or **features**. In machine learning it is convention to use *column* vectors, so we will stick to this.\n",
    "\n",
    "We can refer to some arbitrary data point as $\\mathbf{x}\\in \\mathbb{R}^{D}$ and if we want to refer to specific data points in our dataset of $N$ points we can write $\\mathbf{x}^{(1)},\\mathbf{x}^{(2)},\\mathbf{x}^{(3)},\\dots ,\\mathbf{x}^{(N)}$ where the ordering isn't important as long as it is consistent. \n",
    "\n",
    "\\begin{equation}\\mathbf{x} =\\begin{bmatrix}\n",
    "x_1\\\\x_2\\\\\\vdots \\\\x_{D} \\\\\n",
    "\\end{bmatrix}\n",
    "\\quad \\quad\n",
    "\\mathbf{x}^{(n)} =\n",
    "\\begin{bmatrix}\n",
    "x_1^{(n)}\\\\x_2^{(n)}\\\\ \\vdots\\\\x_{D}^{(n)} \\\\\n",
    "\\end{bmatrix}\\end{equation}\n",
    "\n",
    "\n",
    "\n",
    "\n",
    "The whole dataset is the collection of these vectors $\\{\\mathbf{x}^{(n)}\\}_{n=1}^{N}$ and can be stored in a dataset matrix $\\mathbf{X}$. Annoyingly, it is convention to have the *rows* of this matrix representing different data points so that $\\mathbf{X}\\in \\mathbb{R}^{N\\times D}$. I tend to refer to this as a dataset matrix, but it is often referred to as a design matrix in the literature.\n",
    "\n",
    "\\begin{equation}\n",
    "\\mathbf{X} =\n",
    "\\begin{bmatrix}\n",
    "\\mathbf{x}^{(1)^\\top}\\\\\n",
    "\\mathbf{x}^{(2)^\\top}\\\\\n",
    "\\mathbf{x}^{(3)^\\top}\\\\\n",
    "\\vdots \\\\\n",
    "\\mathbf{x}^{(N)^\\top}\\\\\n",
    "\\end{bmatrix}\n",
    "=\n",
    "\\begin{bmatrix}\n",
    "x_1^{(1)}&x_2^{(1)}&\\dots& x_{D}^{(1)} \\\\\n",
    "x_1^{(2)}&x_2^{(2)}&\\dots& x_{D}^{(2)} \\\\\n",
    "x_1^{(3)}&x_2^{(3)}&\\dots& x_{D}^{(3)} \\\\\n",
    "\\dots&\\dots&\\ddots& \\vdots \\\\\n",
    "x_1^{(N)}&x_2^{(N)}&\\dots& x_{D}^{(N)} \\\\\n",
    "\\end{bmatrix}\n",
    "\\end{equation}\n",
    "\n",
    "Given some tabular data, we need to convert it into this $\\mathbf{X}$ format. If the features in our table are all continuous variables then this is very straightforward. In fact, with a table represented as a pandas dataframe it only requires a single line of code.\n",
    "\n",
    "> **Note that in \"machine learning\" speak we typically refer to variables as features.**\n",
    "\n",
    "Let's look at the iris dataset from the lecture. We will start by having it as a dataframe and then convert it into a dataset matrix."
   ]
  },
  {
   "cell_type": "code",
   "execution_count": 1,
   "id": "d541b3c3",
   "metadata": {},
   "outputs": [
    {
     "data": {
      "text/html": [
       "<div>\n",
       "<style scoped>\n",
       "    .dataframe tbody tr th:only-of-type {\n",
       "        vertical-align: middle;\n",
       "    }\n",
       "\n",
       "    .dataframe tbody tr th {\n",
       "        vertical-align: top;\n",
       "    }\n",
       "\n",
       "    .dataframe thead th {\n",
       "        text-align: right;\n",
       "    }\n",
       "</style>\n",
       "<table border=\"1\" class=\"dataframe\">\n",
       "  <thead>\n",
       "    <tr style=\"text-align: right;\">\n",
       "      <th></th>\n",
       "      <th>sepal length (cm)</th>\n",
       "      <th>sepal width (cm)</th>\n",
       "      <th>petal length (cm)</th>\n",
       "      <th>petal width (cm)</th>\n",
       "    </tr>\n",
       "  </thead>\n",
       "  <tbody>\n",
       "    <tr>\n",
       "      <th>0</th>\n",
       "      <td>5.1</td>\n",
       "      <td>3.5</td>\n",
       "      <td>1.4</td>\n",
       "      <td>0.2</td>\n",
       "    </tr>\n",
       "    <tr>\n",
       "      <th>1</th>\n",
       "      <td>4.9</td>\n",
       "      <td>3.0</td>\n",
       "      <td>1.4</td>\n",
       "      <td>0.2</td>\n",
       "    </tr>\n",
       "    <tr>\n",
       "      <th>2</th>\n",
       "      <td>4.7</td>\n",
       "      <td>3.2</td>\n",
       "      <td>1.3</td>\n",
       "      <td>0.2</td>\n",
       "    </tr>\n",
       "    <tr>\n",
       "      <th>3</th>\n",
       "      <td>4.6</td>\n",
       "      <td>3.1</td>\n",
       "      <td>1.5</td>\n",
       "      <td>0.2</td>\n",
       "    </tr>\n",
       "    <tr>\n",
       "      <th>4</th>\n",
       "      <td>5.0</td>\n",
       "      <td>3.6</td>\n",
       "      <td>1.4</td>\n",
       "      <td>0.2</td>\n",
       "    </tr>\n",
       "    <tr>\n",
       "      <th>...</th>\n",
       "      <td>...</td>\n",
       "      <td>...</td>\n",
       "      <td>...</td>\n",
       "      <td>...</td>\n",
       "    </tr>\n",
       "    <tr>\n",
       "      <th>145</th>\n",
       "      <td>6.7</td>\n",
       "      <td>3.0</td>\n",
       "      <td>5.2</td>\n",
       "      <td>2.3</td>\n",
       "    </tr>\n",
       "    <tr>\n",
       "      <th>146</th>\n",
       "      <td>6.3</td>\n",
       "      <td>2.5</td>\n",
       "      <td>5.0</td>\n",
       "      <td>1.9</td>\n",
       "    </tr>\n",
       "    <tr>\n",
       "      <th>147</th>\n",
       "      <td>6.5</td>\n",
       "      <td>3.0</td>\n",
       "      <td>5.2</td>\n",
       "      <td>2.0</td>\n",
       "    </tr>\n",
       "    <tr>\n",
       "      <th>148</th>\n",
       "      <td>6.2</td>\n",
       "      <td>3.4</td>\n",
       "      <td>5.4</td>\n",
       "      <td>2.3</td>\n",
       "    </tr>\n",
       "    <tr>\n",
       "      <th>149</th>\n",
       "      <td>5.9</td>\n",
       "      <td>3.0</td>\n",
       "      <td>5.1</td>\n",
       "      <td>1.8</td>\n",
       "    </tr>\n",
       "  </tbody>\n",
       "</table>\n",
       "<p>150 rows × 4 columns</p>\n",
       "</div>"
      ],
      "text/plain": [
       "     sepal length (cm)  sepal width (cm)  petal length (cm)  petal width (cm)\n",
       "0                  5.1               3.5                1.4               0.2\n",
       "1                  4.9               3.0                1.4               0.2\n",
       "2                  4.7               3.2                1.3               0.2\n",
       "3                  4.6               3.1                1.5               0.2\n",
       "4                  5.0               3.6                1.4               0.2\n",
       "..                 ...               ...                ...               ...\n",
       "145                6.7               3.0                5.2               2.3\n",
       "146                6.3               2.5                5.0               1.9\n",
       "147                6.5               3.0                5.2               2.0\n",
       "148                6.2               3.4                5.4               2.3\n",
       "149                5.9               3.0                5.1               1.8\n",
       "\n",
       "[150 rows x 4 columns]"
      ]
     },
     "execution_count": 1,
     "metadata": {},
     "output_type": "execute_result"
    }
   ],
   "source": [
    "# Get loader for the iris dataset and import pandas and numpy\n",
    "from sklearn.datasets import load_iris\n",
    "import pandas as pd\n",
    "import numpy as np\n",
    "\n",
    "# Convert into dataframe with the columns as the feature names\n",
    "data = load_iris()\n",
    "df = pd.DataFrame(data.data, columns=data.feature_names)\n",
    "\n",
    "df"
   ]
  },
  {
   "cell_type": "markdown",
   "id": "38af8b20",
   "metadata": {},
   "source": [
    "To convert this into $\\mathbf{X}\\in \\mathbb{R}^{N\\times D}$ we just have to run a line of code."
   ]
  },
  {
   "cell_type": "code",
   "execution_count": 10,
   "id": "547e2781",
   "metadata": {},
   "outputs": [
    {
     "name": "stdout",
     "output_type": "stream",
     "text": [
      "X has shape (150, 4)\n",
      "[[5.1 3.5 1.4 0.2]\n",
      " [4.9 3.  1.4 0.2]\n",
      " [4.7 3.2 1.3 0.2]\n",
      " [4.6 3.1 1.5 0.2]\n",
      " [5.  3.6 1.4 0.2]]\n"
     ]
    }
   ],
   "source": [
    "# Convert dataframe into array\n",
    "X = df.values\n",
    "\n",
    "# Check the shape of X\n",
    "print(f\"X has shape {X.shape}\")\n",
    "print(X[:5,:])"
   ]
  },
  {
   "cell_type": "markdown",
   "id": "3b9edb87",
   "metadata": {},
   "source": [
    "### 3.2.2 Standardisation\n",
    "\n",
    "Standardising your data is **extremely important for PCA, K-means and many machine learning algorithms.** It allows features to be compared on a like-for-like basis so that those with naturally large measurements don't dominate.\n",
    "\n",
    "For some of the toy examples in the lectures and notebooks where I have generated synthetic data, I haven't bothered with standardisation. There are two reasons for this:\n",
    "\n",
    "1. It becomes more fiddly to make the kind of data I want to use to illustrate a point\n",
    "2. The features in these synthetic datasets are all at similar scales and things still works (they are  *roughly* standardised)\n",
    "\n",
    "**This will rarely be the case with real data! When in doubt, standardise your data, seriously! :)**\n",
    "\n",
    "To do this, for each feature we compute the mean and standard deviation (SD) of the measurements across all data points. For each measurement of that feature, we subtract the mean and divide by the SD.\n",
    "\n",
    "\\begin{equation}\n",
    "\\mathbf{X}_{new} =\n",
    "\\begin{bmatrix}\n",
    "\\frac{x_1^{(1)}-\\mu_1}{\\sigma_1}&\\frac{x_2^{(1)}-\\mu_2}{\\sigma_2}&\\dots& \\frac{x_{D}^{(1)}-\\mu_{D}}{\\sigma_{D}} \\\\\n",
    "\\frac{x_1^{(2)}-\\mu_1}{\\sigma_1}&\\frac{x_2^{(2)}-\\mu_2}{\\sigma_2}&\\dots& \\frac{x_{D}^{(2)}-\\mu_{D}}{\\sigma_{D}} \\\\ \\\\\n",
    "\\dots&\\dots&\\ddots& \\vdots \\\\\n",
    "\\frac{x_1^{({N})}-\\mu_1}{\\sigma_1}&\\frac{x_2^{({N})}-\\mu_2}{\\sigma_2}&\\dots& \\frac{x_{D}^{({N})}-\\mu_{D}}{\\sigma_{D}}\\\\\\\\\n",
    "\\end{bmatrix}\n",
    "\\end{equation}\n",
    "\n",
    "where $\\mu_j = \\frac{1}{N}\\sum_{n} \\mathbf{x}^{(n)}_j$ and $\\sigma_j^2 = \\frac{1}{N}\\sum_{n}(\\mathbf{x}^{(n)}_j-\\mu_j)^2$.\n",
    "\n",
    "We can do this very easily in sklearn using the [StandardScaler](https://scikit-learn.org/stable/modules/generated/sklearn.preprocessing.StandardScaler.html) class."
   ]
  },
  {
   "cell_type": "code",
   "execution_count": 3,
   "id": "550b69d9",
   "metadata": {},
   "outputs": [
    {
     "name": "stdout",
     "output_type": "stream",
     "text": [
      "Before standardisation feature means were [5.84 3.06 3.76 1.2 ] and SDs were [0.83 0.43 1.76 0.76]\n",
      "After standardisation feature means are [-0. -0. -0. -0.] and SDs are [1. 1. 1. 1.]\n"
     ]
    }
   ],
   "source": [
    "# Make a copy of our dataset to compare stats after\n",
    "X_old = np.array(df)\n",
    "\n",
    "# Import scaler\n",
    "from sklearn.preprocessing import StandardScaler\n",
    "\n",
    "# Make a scaler object\n",
    "scaler = StandardScaler()\n",
    "\n",
    "# Fit the scaler to the dataset. This means computing the means and STDs\n",
    "scaler.fit(X)\n",
    "\n",
    "# Finally apply the scaler to transform the data\n",
    "X = scaler.transform(X)\n",
    "\n",
    "\n",
    "# Compare stats\n",
    "print(\n",
    "    f\"Before standardisation feature means were {np.round(X_old.mean(0),2)} and SDs were {np.round(X_old.std(0),2)}\"\n",
    ")\n",
    "print(\n",
    "    f\"After standardisation feature means are {np.round(X.mean(0),2)} and SDs are {np.round(X.std(0),2)}\"\n",
    ")"
   ]
  },
  {
   "cell_type": "markdown",
   "id": "e815757c",
   "metadata": {},
   "source": [
    "## 3.3 Principal Component Analysis (PCA)\n",
    "\n",
    "PCA takes a **standardised** dataset matrix $\\mathbf{X}\\in \\mathbb{R}^{N\\times D} $ and returns an orthonormal matrix $\\mathbf{W}_{PC}\\in \\mathbb{R}^{D\\times D}$. Note that orthonormal just means that $\\mathbf{W}_{PC}^\\top \\mathbf{W}_{PC} = \\mathbf{I}$.\n",
    "\n",
    "The columns of $\\mathbf{W}_{PC}$, which we will denote as $\\mathbf{w}_1, \\mathbf{w}_2, \\dots,\\mathbf{w}_D$ are the eigenvectors of the empirical covariance matrix $\\mathbf{\\Sigma }= \\frac{1}{N}\\mathbf{X^\\top}\\mathbf{X}$ sorted from highest to lowest eigenvalue $\\lambda_1 , \\lambda_2, \\dots , \\lambda_D$. These eigenvectors are known as the **principal components** of the data.\n",
    "\n",
    "We are interested in PCA for the purpose of *dimensionality reduction*. We often have a dataset that is too high dimensional to visualise. We would like a simple linear transform $\\mathbf{Z=XW}$ that turns our high dimensional data points $\\{\\mathbf{x}^{(n)}\\}_{n=1}^{N}$\\(the rows of $\\mathbf{X}$) into low dimensional data points $\\{\\mathbf{z}^{(n)}\\}_{n=1}^{N}$ (the rows of $\\mathbf{Z}$). Here, $\\mathbf{x}\\in\\mathbb{R}^D$ and $\\mathbf{z}\\in \\mathbb{R}^d$ where $d<D$.\n",
    "\n",
    "In order to quantify how good this transform is, we create a setup where its transpose can be used to (attempt to) reverse the transformation. This means we can compute $\\mathbf{\\hat{X}}=\\mathbf{ZW^\\top}=\\mathbf{X}\\mathbf{W}\\mathbf{W}^\\top$ where the rows of $\\mathbf{\\hat{X}}$ are reconstructions of the original data points $\\{\\hat{\\mathbf{x}}^{(n)}\\}_{n=1}^{N}$.\n",
    "\n",
    "We can now assess how good a transformation $\\mathbf{W}$ is by computing the average (squared) distance between points and their reconstructions.\n",
    "\n",
    "\\begin{equation}\n",
    "\\frac{1}{N}\\sum_{n} \\lVert{\\mathbf{x}^{(n)}-\\mathbf{\\hat{x}}^{(n)}}\\rVert^2=\\frac{1}{N}\\sum_{n} \\lVert{\\mathbf{x}^{(n)}-\\mathbf{W}^\\top \\mathbf{W}\\mathbf{x}^{(n)}}\\rVert^2\n",
    "\\end{equation}\n",
    "\n",
    "We can write this as an optimisation problem (we'll be seeing a lot more of these later in the course). We want to solve\n",
    "\n",
    "\\begin{equation}\n",
    "\\underset{\\mathbf{W}}{\\mathrm{minimise}}\\,\\, \\, \\frac{1}{N}\\sum_{n} \\lVert{\\mathbf{x}^{(n)}-\\mathbf{W}^\\top \\mathbf{W}\\mathbf{x}^{(n)}}\\rVert^2\n",
    "\\end{equation}\n",
    "\n",
    "It looks a bit weird at first that I've basically written out the same thing again with a few small differences but it is making it explicit that we have an expression that we want to minimise and that we explicitly want to find $\\mathbf{W}$ that minimises it (as opposed to $\\mathbf{X}$ which is fixed for a particular dataset).\n",
    "\n",
    "As it happens, we actually want to solve the constrained optimisation problem:\n",
    "\n",
    "\\begin{equation}\\underset{\\mathbf{W}}{\\mathrm{minimise}}\\,\\, \\, \\frac{1}{N}\\sum_{n} \\lVert{\\mathbf{x}^{(n)}-\\mathbf{W}^\\top \\mathbf{W}\\mathbf{x}^{(n)}}\\rVert^2 \\, \\, \\, \\text{subject to} \\, \\, \\, \\mathbf{W}^\\top \\mathbf{W} = \\mathbf{I}\\end{equation}\n",
    "\n",
    "You can see why this constraint is necessarily if you follow the proof (optional) in Murphy 20.1.2 but at a high-level it is good because it means the new low dimensional features $z_1, z_2 ,\\dots, z_d$ are uncorrelated so they describe different *aspects* of the data. \n",
    "\n",
    "What has this got to do with PCA? Well, the solution to this optimisation problem when projecting down to $d$ dimensions is the matrix whose $d$ columns are the first $d$ principal components of the data.\n",
    "\n",
    "\\begin{equation}\\mathbf{W} = \\begin{bmatrix}\\mathbf{w}_1&\\mathbf{w}_2&\\dots &\\mathbf{w}_d\\end{bmatrix}\\end{equation}\n",
    "\n",
    "Let's visit the ellipse example in the lecture to see PCA in action."
   ]
  },
  {
   "cell_type": "code",
   "execution_count": 4,
   "id": "d6400c0e",
   "metadata": {},
   "outputs": [
    {
     "data": {
      "text/plain": [
       "Text(0.5, 0, '$x_3$')"
      ]
     },
     "execution_count": 4,
     "metadata": {},
     "output_type": "execute_result"
    },
    {
     "data": {
      "image/png": "[encoded data removed]",
      "text/plain": [
       "<Figure size 1296x432 with 1 Axes>"
      ]
     },
     "metadata": {},
     "output_type": "display_data"
    }
   ],
   "source": [
    "# Import preprocessing from sklearn so we can standardise in one go using X= preprocessing.scale(X)\n",
    "# Also import matplotlib for plotting\n",
    "from sklearn import preprocessing\n",
    "import matplotlib.pyplot as plt\n",
    "\n",
    "# This makes matplotlib output nice figures without much tweaking\n",
    "plt.rcParams.update(\n",
    "    {\n",
    "        \"lines.markersize\": 10,  # Big points\n",
    "        \"font.size\": 15,  # Larger font\n",
    "        \"savefig.dpi\": 300,  # Higher res output\n",
    "        \"savefig.format\": \"pdf\",  # PDF outputs\n",
    "        \"savefig.bbox\": \"tight\",  # remove whitespace around figure\n",
    "        \"savefig.transparent\": True,  # transparent background\n",
    "        \"xtick.major.size\": 5.0,  # Bigger xticks\n",
    "        \"ytick.major.size\": 5.0,  # Bigger yticks\n",
    "    }\n",
    ")\n",
    "\n",
    "# Generate points on an unrotated ellipse\n",
    "a = 10\n",
    "b = 1\n",
    "theta = np.linspace(0,2*np.pi,100)\n",
    "\n",
    "y = a*np.sin(theta)\n",
    "z = b*np.cos(theta)\n",
    "x = np.zeros(100)\n",
    "\n",
    "# Stack into dataset matrix\n",
    "X = np.vstack((x,y,z)).T\n",
    "\n",
    "# Rotate \n",
    "t = np.pi / 4\n",
    "R = np.array([[np.cos(t), np.sin(t),0],[-np.sin(t), np.cos(t),0],[0,0,1]])\n",
    "X = X @ R\n",
    "\n",
    "# Standardise in a single line. This is an alternative to what we did in the last cell\n",
    "X = preprocessing.scale(X)\n",
    "\n",
    "# Finally, plot\n",
    "fig = plt.figure(figsize=(18,6))\n",
    "ax = fig.add_subplot(projection='3d')\n",
    "ax.grid()\n",
    "ax.set_xlim([-2,2])\n",
    "ax.set_ylim([-2,2])\n",
    "ax.set_zlim([-2,2])\n",
    "ax.set_xticks([])\n",
    "ax.set_yticks([])\n",
    "ax.set_zticks([])\n",
    "ax.scatter(X[:,0],X[:,1],X[:,2],edgecolor='k')\n",
    "ax.set_xlabel('$x_1$', size=20)\n",
    "ax.set_ylabel('$x_2$', size=20)\n",
    "ax.set_zlabel('$x_3$', size=20)\n"
   ]
  },
  {
   "cell_type": "markdown",
   "id": "2f1df6b2",
   "metadata": {},
   "source": [
    "Here, we have a dataset of points that maps out an ellipse in 3D. We know that ellipses are only 2D so we would hope that if we projected this dataset down to 2D we would get something that looks an awful lot like an ellipse."
   ]
  },
  {
   "cell_type": "markdown",
   "id": "edf64170",
   "metadata": {},
   "source": [
    "Let's use the [PCA](https://scikit-learn.org/stable/modules/generated/sklearn.decomposition.PCA.html) class from sklearn to compute $\\mathbf{W}$ and then $\\mathbf{Z}=\\mathbf{XW}$. When creating an object from this class, it takes in an argument `n_components`. This refers to the number of principal components we want to keep. In this example, we want to go down to 2D so we need to keep 2 principal components."
   ]
  },
  {
   "cell_type": "code",
   "execution_count": 5,
   "id": "56abc291",
   "metadata": {},
   "outputs": [
    {
     "data": {
      "text/plain": [
       "Text(0, 0.5, '$z_2$')"
      ]
     },
     "execution_count": 5,
     "metadata": {},
     "output_type": "execute_result"
    },
    {
     "data": {
      "image/png": "[encoded data removed]",
      "text/plain": [
       "<Figure size 432x432 with 1 Axes>"
      ]
     },
     "metadata": {
      "needs_background": "light"
     },
     "output_type": "display_data"
    }
   ],
   "source": [
    "# Import PCA package\n",
    "from sklearn.decomposition import PCA\n",
    "\n",
    "# Create a pca object\n",
    "pca = PCA(n_components=2)\n",
    "\n",
    "# Calling pca.fit(X) computes W behind the scenes\n",
    "pca.fit(X)\n",
    "\n",
    "# Calling pca.transform(X) then computes X@W\n",
    "Z = pca.transform(X)\n",
    "\n",
    "# Let's now plot our transformed dataset to see if it makes sense\n",
    "\n",
    "# Plot Y\n",
    "fig, ax = plt.subplots(figsize=[6,6])\n",
    "ax.set_aspect(\"equal\", \"box\")\n",
    "ax.grid()\n",
    "ax.set_xlim([-2.2, 2.2])\n",
    "ax.set_ylim([-2.2, 2.2])\n",
    "ax.scatter(Z[:, 0], Z[:, 1],color='g',edgecolor='k')\n",
    "ax.set_xlabel(\"$z_1$\", size=20)\n",
    "ax.set_ylabel(\"$z_2$\", size=20)\n"
   ]
  },
  {
   "cell_type": "markdown",
   "id": "7674db93",
   "metadata": {},
   "source": [
    "Great! It's an ellipse! In addition to giving you a transformation that minimises reconstruction error, the principal components (i.e. the features in the transformed space) correspond to (orthogonal) directions of maximum variance. This is why $z_1$ above is the major axis of the ellipse, and $z_2$ is the minor axis as these are the axes from which points are furthest away (on average).\n",
    "\n",
    "We can quantify how much of the variance has been captured in these dimensions by considering the ratio of the eigenvalues corresponding to the principal components we've used relative to the sum of all eigenvalues of $\\boldsymbol\\Sigma$. Sklearn computes these automatically:"
   ]
  },
  {
   "cell_type": "code",
   "execution_count": 6,
   "id": "7bee1b4e",
   "metadata": {},
   "outputs": [
    {
     "data": {
      "text/plain": [
       "array([0.66666667, 0.33333333])"
      ]
     },
     "execution_count": 6,
     "metadata": {},
     "output_type": "execute_result"
    }
   ],
   "source": [
    "# The amount of variance captured in the 1st and 2nd principal component\n",
    "# It captures all of the variance because the third dimension is redundant in describing a 2D shape\n",
    "pca.explained_variance_ratio_"
   ]
  },
  {
   "cell_type": "markdown",
   "id": "0e417890",
   "metadata": {},
   "source": [
    "## 3.4 K-means\n",
    "\n",
    "K-means is a clustering algorithm that assigns each point to one of $K$ clusters. It should take in a **standardised** dataset, otherwise the distance computations will be skewed by naturally large features.\n",
    "\n",
    "The algorithm is straightforward:\n",
    "\n",
    "- A user decides how many clusters they want\n",
    "- Cluster centres $\\{\\mathbf{c}_{k}\\}_{k=1}^{K}$ are created at random \n",
    "- We then alternate between assigning points to their nearest clusters, and updating the clusters as the centre of their assigned points until there is no change\n",
    "\n",
    "However, if you look at the [KMeans](https://scikit-learn.org/stable/modules/generated/sklearn.cluster.KMeans.html) class in sklearn you can see that there are several other arguments it can take in, other than just `n_clusters`. This is because the algorithms as presented to you in lectures are usually in their most elementary form. In practice there are lots of ways to tweak an algorithm to make it more efficient, faster or more appropriate for a specific scenario or dataset, but I digress.\n",
    "\n",
    "Let's perform K-means on some synthetic data for illustration. First we will use sklearn to make a 2D dataset that consists of 4 blobs.\n"
   ]
  },
  {
   "cell_type": "code",
   "execution_count": 7,
   "id": "a5a1591b",
   "metadata": {},
   "outputs": [
    {
     "data": {
      "text/plain": [
       "<matplotlib.collections.PathCollection at 0x7fb6559b9a00>"
      ]
     },
     "execution_count": 7,
     "metadata": {},
     "output_type": "execute_result"
    },
    {
     "data": {
      "image/png": "[encoded data removed]",
      "text/plain": [
       "<Figure size 432x432 with 1 Axes>"
      ]
     },
     "metadata": {
      "needs_background": "light"
     },
     "output_type": "display_data"
    }
   ],
   "source": [
    "# Sklearn lets us make synthetic datasets\n",
    "from sklearn.datasets import make_blobs\n",
    "\n",
    "# Let's make a dataset of 2D points split into 4 blobs\n",
    "X, _ = make_blobs(\n",
    "    n_samples=40, centers=4, n_features=2, random_state=0, cluster_std=0.4\n",
    ")\n",
    "\n",
    "fig, ax = plt.subplots(figsize=[6, 6])\n",
    "ax.set_aspect(\"equal\", \"box\")\n",
    "ax.scatter(X[:, 0], X[:, 1], color=\"k\")"
   ]
  },
  {
   "cell_type": "markdown",
   "id": "f1be8306",
   "metadata": {},
   "source": [
    "Let's run K-Means with 4 clusters on this data, and plot the clusters in 4 different colours."
   ]
  },
  {
   "cell_type": "code",
   "execution_count": 8,
   "id": "fad9c0c0",
   "metadata": {},
   "outputs": [
    {
     "name": "stdout",
     "output_type": "stream",
     "text": [
      "[0 1 1 2 3 3 2 2 3 0 2 0 0 3 1 1 2 1 0 1 1 1 1 1 2 0 0 0 3 0 3 2 3 3 3 2 0\n",
      " 2 3 2]\n"
     ]
    },
    {
     "data": {
      "text/plain": [
       "<matplotlib.collections.PathCollection at 0x7fb638918bb0>"
      ]
     },
     "execution_count": 8,
     "metadata": {},
     "output_type": "execute_result"
    },
    {
     "data": {
      "image/png": "[encoded data removed]",
      "text/plain": [
       "<Figure size 432x432 with 1 Axes>"
      ]
     },
     "metadata": {
      "needs_background": "light"
     },
     "output_type": "display_data"
    }
   ],
   "source": [
    "# Import k-means class\n",
    "from sklearn.cluster import KMeans\n",
    "\n",
    "# Create k-means object\n",
    "kmeans = KMeans(n_clusters=4, random_state=0)\n",
    "\n",
    "# Run the k-means algorithm\n",
    "kmeans.fit(X)\n",
    "\n",
    "# We can look at kmeans.labels_ to see the assignments\n",
    "print(kmeans.labels_)\n",
    "\n",
    "# Make a colourmap\n",
    "colormap = np.array([\"r\", \"g\", \"b\", \"y\"])\n",
    "\n",
    "\n",
    "fig, ax = plt.subplots(figsize=[6, 6])\n",
    "ax.set_aspect(\"equal\", \"box\")\n",
    "ax.scatter(X[:, 0], X[:, 1], c=colormap[kmeans.labels_], edgecolor=\"k\")"
   ]
  },
  {
   "cell_type": "markdown",
   "id": "b63242c8",
   "metadata": {},
   "source": [
    "Nice! Although this algorithm is very sensible to the intial cluster placement. Also, clusters don't necessarily correspond to anything meaningful. I am personally not the biggest fan of clustering :)  "
   ]
  },
  {
   "cell_type": "markdown",
   "id": "29e4751a",
   "metadata": {},
   "source": [
    "<hr style=\"border:2px solid black\"> </hr>\n",
    "\n",
    "#### Written by Elliot J. Crowley and &copy; The University of Edinburgh 2022-24"
   ]
  }
 ],
 "metadata": {
  "kernelspec": {
   "display_name": "Python 3 (ipykernel)",
   "language": "python",
   "name": "python3"
  },
  "language_info": {
   "codemirror_mode": {
    "name": "ipython",
    "version": 3
   },
   "file_extension": ".py",
   "mimetype": "text/x-python",
   "name": "python",
   "nbconvert_exporter": "python",
   "pygments_lexer": "ipython3",
   "version": "3.9.12"
  }
 },
 "nbformat": 4,
 "nbformat_minor": 5
}
