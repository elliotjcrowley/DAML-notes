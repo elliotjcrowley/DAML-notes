{
 "cells": [
  {
   "cell_type": "markdown",
   "id": "70bdaac8",
   "metadata": {},
   "source": [
    "# DAML4 notes\n",
    "## Week 8 - $k$-nearest neighbours and decision trees\n",
    "\n",
    "<hr style=\"border:2px solid black\"> </hr>\n"
   ]
  },
  {
   "cell_type": "markdown",
   "id": "0a4de456",
   "metadata": {},
   "source": [
    "## $k$-NN classification\n",
    "\n",
    "This simple classification algorithm doesn't have any parameters, and a single hyperpameter $k$. It does however require you to keep hold of your entire training set $\\{\\mathbf{x}^{(n)}, y^{(n)}\\}_{n=0}^{N-1}$.\n",
    "\n",
    "Given a test point $\\mathbf{x}^{(t)}$:\n",
    "\n",
    "1. compute the distance between $\\mathbf{x}^{(t)}$ and every training point\n",
    "2. identify the $k$ nearest training points i.e. those with the lowest distances away\n",
    "3. classify $\\mathbf{x}^{(t)}$ according to the mode class label of the nearest neighbours "
   ]
  },
  {
   "cell_type": "markdown",
   "id": "25f78d90",
   "metadata": {},
   "source": [
    "Let's generate some synthetic training data. Let's have 2D points split into three classes."
   ]
  },
  {
   "cell_type": "code",
   "execution_count": 9,
   "id": "361ef4f4",
   "metadata": {},
   "outputs": [
    {
     "data": {
      "text/plain": [
       "[<matplotlib.axis.XTick at 0x7fe598a31df0>,\n",
       " <matplotlib.axis.XTick at 0x7fe598a31dc0>,\n",
       " <matplotlib.axis.XTick at 0x7fe5985c7cd0>,\n",
       " <matplotlib.axis.XTick at 0x7fe598a7e5b0>,\n",
       " <matplotlib.axis.XTick at 0x7fe598a7ed00>,\n",
       " <matplotlib.axis.XTick at 0x7fe598a7ec70>,\n",
       " <matplotlib.axis.XTick at 0x7fe598a865b0>]"
      ]
     },
     "execution_count": 9,
     "metadata": {},
     "output_type": "execute_result"
    },
    {
     "data": {
      "image/png": "[encoded data removed]",
      "text/plain": [
       "<Figure size 432x432 with 1 Axes>"
      ]
     },
     "metadata": {
      "needs_background": "light"
     },
     "output_type": "display_data"
    },
    {
     "data": {
      "application/javascript": [
       "\n",
       "            setTimeout(function() {\n",
       "                var nbb_cell_id = 9;\n",
       "                var nbb_unformatted_code = \"# Grouping cell imports here for tidiness\\nimport numpy as np\\nimport matplotlib.pyplot as plt\\nfrom matplotlib.colors import ListedColormap\\nfrom sklearn.datasets import make_blobs\\n\\n# This makes matplotlib output nice figures without much tweaking\\nplt.rcParams.update(\\n    {\\n        \\\"lines.markersize\\\": 10,  # Big points\\n        \\\"font.size\\\": 15,  # Larger font\\n        \\\"xtick.major.size\\\": 5.0,  # Bigger xticks\\n        \\\"ytick.major.size\\\": 5.0,  # Bigger yticks\\n    }\\n)\\n\\n# We can use sklearn to make synthetic data.\\n# Let's create three blobby classes in 2D space\\nX, y = make_blobs(n_samples=30, centers=3, n_features=2, random_state=0)\\n\\n# Define three colours for the classes\\ncolours = [\\\"#e58139\\\", \\\"#47e53a\\\", \\\"#8139e4\\\"]\\n\\n# Plot\\nfig, ax = plt.subplots(figsize=[6, 6])\\nax.scatter(X[y == 0, 0], X[y == 0, 1], color=colours[0])\\nax.scatter(X[y == 1, 0], X[y == 1, 1], color=colours[1], marker=\\\"s\\\")\\nax.scatter(X[y == 2, 0], X[y == 2, 1], color=colours[2], marker=\\\"D\\\")\\nax.grid()\\nax.set_xlabel(\\\"$x_0$\\\")\\nax.set_ylabel(\\\"$x_1$\\\")\\nplt.legend([\\\"class 0\\\", \\\"class 1\\\", \\\"class 2\\\"])\\nax.set_xticks([-3, -2, -1, 0, 1, 2, 3])\";\n",
       "                var nbb_formatted_code = \"# Grouping cell imports here for tidiness\\nimport numpy as np\\nimport matplotlib.pyplot as plt\\nfrom matplotlib.colors import ListedColormap\\nfrom sklearn.datasets import make_blobs\\n\\n# This makes matplotlib output nice figures without much tweaking\\nplt.rcParams.update(\\n    {\\n        \\\"lines.markersize\\\": 10,  # Big points\\n        \\\"font.size\\\": 15,  # Larger font\\n        \\\"xtick.major.size\\\": 5.0,  # Bigger xticks\\n        \\\"ytick.major.size\\\": 5.0,  # Bigger yticks\\n    }\\n)\\n\\n# We can use sklearn to make synthetic data.\\n# Let's create three blobby classes in 2D space\\nX, y = make_blobs(n_samples=30, centers=3, n_features=2, random_state=0)\\n\\n# Define three colours for the classes\\ncolours = [\\\"#e58139\\\", \\\"#47e53a\\\", \\\"#8139e4\\\"]\\n\\n# Plot\\nfig, ax = plt.subplots(figsize=[6, 6])\\nax.scatter(X[y == 0, 0], X[y == 0, 1], color=colours[0])\\nax.scatter(X[y == 1, 0], X[y == 1, 1], color=colours[1], marker=\\\"s\\\")\\nax.scatter(X[y == 2, 0], X[y == 2, 1], color=colours[2], marker=\\\"D\\\")\\nax.grid()\\nax.set_xlabel(\\\"$x_0$\\\")\\nax.set_ylabel(\\\"$x_1$\\\")\\nplt.legend([\\\"class 0\\\", \\\"class 1\\\", \\\"class 2\\\"])\\nax.set_xticks([-3, -2, -1, 0, 1, 2, 3])\";\n",
       "                var nbb_cells = Jupyter.notebook.get_cells();\n",
       "                for (var i = 0; i < nbb_cells.length; ++i) {\n",
       "                    if (nbb_cells[i].input_prompt_number == nbb_cell_id) {\n",
       "                        if (nbb_cells[i].get_text() == nbb_unformatted_code) {\n",
       "                             nbb_cells[i].set_text(nbb_formatted_code);\n",
       "                        }\n",
       "                        break;\n",
       "                    }\n",
       "                }\n",
       "            }, 500);\n",
       "            "
      ],
      "text/plain": [
       "<IPython.core.display.Javascript object>"
      ]
     },
     "metadata": {},
     "output_type": "display_data"
    }
   ],
   "source": [
    "# Grouping cell imports here for tidiness\n",
    "import numpy as np\n",
    "import matplotlib.pyplot as plt\n",
    "from matplotlib.colors import ListedColormap\n",
    "from sklearn.datasets import make_blobs\n",
    "\n",
    "# This makes matplotlib output nice figures without much tweaking\n",
    "plt.rcParams.update(\n",
    "    {\n",
    "        \"lines.markersize\": 10,  # Big points\n",
    "        \"font.size\": 15,  # Larger font\n",
    "        \"xtick.major.size\": 5.0,  # Bigger xticks\n",
    "        \"ytick.major.size\": 5.0,  # Bigger yticks\n",
    "    }\n",
    ")\n",
    "\n",
    "# We can use sklearn to make synthetic data.\n",
    "# Let's create three blobby classes in 2D space\n",
    "X, y = make_blobs(n_samples=30, centers=3, n_features=2, random_state=0)\n",
    "\n",
    "# Define three colours for the classes\n",
    "colours = [\"#e58139\", \"#47e53a\", \"#8139e4\"]\n",
    "\n",
    "# Plot\n",
    "fig, ax = plt.subplots(figsize=[6, 6])\n",
    "ax.scatter(X[y == 0, 0], X[y == 0, 1], color=colours[0])\n",
    "ax.scatter(X[y == 1, 0], X[y == 1, 1], color=colours[1], marker=\"s\")\n",
    "ax.scatter(X[y == 2, 0], X[y == 2, 1], color=colours[2], marker=\"D\")\n",
    "ax.grid()\n",
    "ax.set_xlabel(\"$x_0$\")\n",
    "ax.set_ylabel(\"$x_1$\")\n",
    "plt.legend([\"class 0\", \"class 1\", \"class 2\"])\n",
    "ax.set_xticks([-3, -2, -1, 0, 1, 2, 3])"
   ]
  },
  {
   "cell_type": "markdown",
   "id": "ce8a4c26",
   "metadata": {},
   "source": [
    "Let's consider a test point placed at $\\mathbf{x}_t=\\begin{bmatrix}1&4\\end{bmatrix}^\\top$ for $K=3$. It will quite comfortably be put into class 0, but let's use sklearn to verify this."
   ]
  },
  {
   "cell_type": "code",
   "execution_count": 10,
   "id": "4a86ec0c",
   "metadata": {},
   "outputs": [
    {
     "data": {
      "text/plain": [
       "array([0])"
      ]
     },
     "execution_count": 10,
     "metadata": {},
     "output_type": "execute_result"
    },
    {
     "data": {
      "application/javascript": [
       "\n",
       "            setTimeout(function() {\n",
       "                var nbb_cell_id = 10;\n",
       "                var nbb_unformatted_code = \"# Get KNN model from sklearn\\nfrom sklearn.neighbors import KNeighborsClassifier\\n\\n# Create model and fit to training data\\nmodel = KNeighborsClassifier(n_neighbors=3)\\nmodel.fit(X, y)\\n\\n# Predict class label at our test point\\nmodel.predict([[1, 4]])\";\n",
       "                var nbb_formatted_code = \"# Get KNN model from sklearn\\nfrom sklearn.neighbors import KNeighborsClassifier\\n\\n# Create model and fit to training data\\nmodel = KNeighborsClassifier(n_neighbors=3)\\nmodel.fit(X, y)\\n\\n# Predict class label at our test point\\nmodel.predict([[1, 4]])\";\n",
       "                var nbb_cells = Jupyter.notebook.get_cells();\n",
       "                for (var i = 0; i < nbb_cells.length; ++i) {\n",
       "                    if (nbb_cells[i].input_prompt_number == nbb_cell_id) {\n",
       "                        if (nbb_cells[i].get_text() == nbb_unformatted_code) {\n",
       "                             nbb_cells[i].set_text(nbb_formatted_code);\n",
       "                        }\n",
       "                        break;\n",
       "                    }\n",
       "                }\n",
       "            }, 500);\n",
       "            "
      ],
      "text/plain": [
       "<IPython.core.display.Javascript object>"
      ]
     },
     "metadata": {},
     "output_type": "display_data"
    }
   ],
   "source": [
    "# Get KNN model from sklearn\n",
    "from sklearn.neighbors import KNeighborsClassifier\n",
    "\n",
    "# Create model and fit to training data\n",
    "model = KNeighborsClassifier(n_neighbors=3)\n",
    "model.fit(X, y)\n",
    "\n",
    "# Predict class label at our test point\n",
    "model.predict([[1, 4]])"
   ]
  },
  {
   "cell_type": "markdown",
   "id": "88b7a2a3",
   "metadata": {},
   "source": [
    "Great. In fact, we can plot the decision boundary of this classifier so we can see how all points in the above space would be classified. Sklearn makes this straightforward. "
   ]
  },
  {
   "cell_type": "code",
   "execution_count": 11,
   "id": "fb3d2baa",
   "metadata": {},
   "outputs": [
    {
     "data": {
      "image/png": "[encoded data removed]",
      "text/plain": [
       "<Figure size 432x432 with 1 Axes>"
      ]
     },
     "metadata": {
      "needs_background": "light"
     },
     "output_type": "display_data"
    },
    {
     "data": {
      "application/javascript": [
       "\n",
       "            setTimeout(function() {\n",
       "                var nbb_cell_id = 11;\n",
       "                var nbb_unformatted_code = \"# Imports for plotting the decision boundary\\nfrom matplotlib.colors import ListedColormap\\nfrom sklearn.inspection import DecisionBoundaryDisplay\\n\\n# Repeat the plot from above\\nfig, ax = plt.subplots(figsize=[6, 6])\\nax.scatter(X[y == 0, 0], X[y == 0, 1], color=colours[0])\\nax.scatter(X[y == 1, 0], X[y == 1, 1], color=colours[1], marker=\\\"s\\\")\\nax.scatter(X[y == 2, 0], X[y == 2, 1], color=colours[2], marker=\\\"D\\\")\\nax.grid()\\nax.set_xlabel(\\\"$x_0$\\\")\\nax.set_ylabel(\\\"$x_1$\\\")\\nplt.legend([\\\"class 0\\\", \\\"class 1\\\", \\\"class 2\\\"])\\n\\n# Add the decision boundary\\ndisp = DecisionBoundaryDisplay.from_estimator(\\n    model,\\n    X,\\n    response_method=\\\"predict\\\",\\n    alpha=0.3,\\n    grid_resolution=100,\\n    ax=ax,\\n    cmap=ListedColormap(colours),\\n)\";\n",
       "                var nbb_formatted_code = \"# Imports for plotting the decision boundary\\nfrom matplotlib.colors import ListedColormap\\nfrom sklearn.inspection import DecisionBoundaryDisplay\\n\\n# Repeat the plot from above\\nfig, ax = plt.subplots(figsize=[6, 6])\\nax.scatter(X[y == 0, 0], X[y == 0, 1], color=colours[0])\\nax.scatter(X[y == 1, 0], X[y == 1, 1], color=colours[1], marker=\\\"s\\\")\\nax.scatter(X[y == 2, 0], X[y == 2, 1], color=colours[2], marker=\\\"D\\\")\\nax.grid()\\nax.set_xlabel(\\\"$x_0$\\\")\\nax.set_ylabel(\\\"$x_1$\\\")\\nplt.legend([\\\"class 0\\\", \\\"class 1\\\", \\\"class 2\\\"])\\n\\n# Add the decision boundary\\ndisp = DecisionBoundaryDisplay.from_estimator(\\n    model,\\n    X,\\n    response_method=\\\"predict\\\",\\n    alpha=0.3,\\n    grid_resolution=100,\\n    ax=ax,\\n    cmap=ListedColormap(colours),\\n)\";\n",
       "                var nbb_cells = Jupyter.notebook.get_cells();\n",
       "                for (var i = 0; i < nbb_cells.length; ++i) {\n",
       "                    if (nbb_cells[i].input_prompt_number == nbb_cell_id) {\n",
       "                        if (nbb_cells[i].get_text() == nbb_unformatted_code) {\n",
       "                             nbb_cells[i].set_text(nbb_formatted_code);\n",
       "                        }\n",
       "                        break;\n",
       "                    }\n",
       "                }\n",
       "            }, 500);\n",
       "            "
      ],
      "text/plain": [
       "<IPython.core.display.Javascript object>"
      ]
     },
     "metadata": {},
     "output_type": "display_data"
    }
   ],
   "source": [
    "# Imports for plotting the decision boundary\n",
    "from matplotlib.colors import ListedColormap\n",
    "from sklearn.inspection import DecisionBoundaryDisplay\n",
    "\n",
    "# Repeat the plot from above\n",
    "fig, ax = plt.subplots(figsize=[6, 6])\n",
    "ax.scatter(X[y == 0, 0], X[y == 0, 1], color=colours[0])\n",
    "ax.scatter(X[y == 1, 0], X[y == 1, 1], color=colours[1], marker=\"s\")\n",
    "ax.scatter(X[y == 2, 0], X[y == 2, 1], color=colours[2], marker=\"D\")\n",
    "ax.grid()\n",
    "ax.set_xlabel(\"$x_0$\")\n",
    "ax.set_ylabel(\"$x_1$\")\n",
    "plt.legend([\"class 0\", \"class 1\", \"class 2\"])\n",
    "\n",
    "# Add the decision boundary\n",
    "disp = DecisionBoundaryDisplay.from_estimator(\n",
    "    model,\n",
    "    X,\n",
    "    response_method=\"predict\",\n",
    "    alpha=0.3,\n",
    "    grid_resolution=100,\n",
    "    ax=ax,\n",
    "    cmap=ListedColormap(colours),\n",
    ")"
   ]
  },
  {
   "cell_type": "markdown",
   "id": "cfc8081c",
   "metadata": {},
   "source": [
    "Notice the boundaries are a bit rough. This is because the decision boundary is plotted by feeding in dummy points to the classifier. Increasing `grid_resolution` above feeds more dummy points in, so will give a sharper boundary at the cost of more computation time."
   ]
  },
  {
   "cell_type": "markdown",
   "id": "6c7a0f2d",
   "metadata": {},
   "source": [
    "## Decision trees"
   ]
  },
  {
   "cell_type": "markdown",
   "id": "a11c2900",
   "metadata": {},
   "source": [
    "Let's train a decision tree on the same training data. We will look at the actual training process later. \n",
    "\n",
    "A decision tree is best understood visually, so we will produce a diagram of our tree after training."
   ]
  },
  {
   "cell_type": "code",
   "execution_count": 13,
   "id": "0dc4e30a",
   "metadata": {},
   "outputs": [
    {
     "data": {
      "image/svg+xml": [
       "<?xml version=\"1.0\" encoding=\"UTF-8\" standalone=\"no\"?>\n",
       "<!DOCTYPE svg PUBLIC \"-//W3C//DTD SVG 1.1//EN\"\n",
       " \"http://www.w3.org/Graphics/SVG/1.1/DTD/svg11.dtd\">\n",
       "<!-- Generated by graphviz version 2.47.2 (20210527.0053)\n",
       " -->\n",
       "<!-- Title: Tree Pages: 1 -->\n",
       "<svg width=\"519pt\" height=\"314pt\"\n",
       " viewBox=\"0.00 0.00 518.50 314.00\" xmlns=\"http://www.w3.org/2000/svg\" xmlns:xlink=\"http://www.w3.org/1999/xlink\">\n",
       "<g id=\"graph0\" class=\"graph\" transform=\"scale(1 1) rotate(0) translate(4 310)\">\n",
       "<title>Tree</title>\n",
       "<polygon fill=\"white\" stroke=\"transparent\" points=\"-4,4 -4,-310 514.5,-310 514.5,4 -4,4\"/>\n",
       "<!-- 0 -->\n",
       "<g id=\"node1\" class=\"node\">\n",
       "<title>0</title>\n",
       "<path fill=\"#ffffff\" stroke=\"black\" d=\"M310.5,-306C310.5,-306 202.5,-306 202.5,-306 196.5,-306 190.5,-300 190.5,-294 190.5,-294 190.5,-235 190.5,-235 190.5,-229 196.5,-223 202.5,-223 202.5,-223 310.5,-223 310.5,-223 316.5,-223 322.5,-229 322.5,-235 322.5,-235 322.5,-294 322.5,-294 322.5,-300 316.5,-306 310.5,-306\"/>\n",
       "<text text-anchor=\"start\" x=\"226\" y=\"-290.8\" font-family=\"Helvetica,sans-Serif\" font-size=\"14.00\">x_0 ≤ &#45;0.5</text>\n",
       "<text text-anchor=\"start\" x=\"209\" y=\"-275.8\" font-family=\"Helvetica,sans-Serif\" font-size=\"14.00\">entropy = 1.585</text>\n",
       "<text text-anchor=\"start\" x=\"215.5\" y=\"-260.8\" font-family=\"Helvetica,sans-Serif\" font-size=\"14.00\">samples = 30</text>\n",
       "<text text-anchor=\"start\" x=\"198.5\" y=\"-245.8\" font-family=\"Helvetica,sans-Serif\" font-size=\"14.00\">value = [10, 10, 10]</text>\n",
       "<text text-anchor=\"start\" x=\"229\" y=\"-230.8\" font-family=\"Helvetica,sans-Serif\" font-size=\"14.00\">class = 0</text>\n",
       "</g>\n",
       "<!-- 1 -->\n",
       "<g id=\"node2\" class=\"node\">\n",
       "<title>1</title>\n",
       "<path fill=\"#8e4de8\" stroke=\"black\" d=\"M236,-187C236,-187 143,-187 143,-187 137,-187 131,-181 131,-175 131,-175 131,-116 131,-116 131,-110 137,-104 143,-104 143,-104 236,-104 236,-104 242,-104 248,-110 248,-116 248,-116 248,-175 248,-175 248,-181 242,-187 236,-187\"/>\n",
       "<text text-anchor=\"start\" x=\"154\" y=\"-171.8\" font-family=\"Helvetica,sans-Serif\" font-size=\"14.00\">x_1 ≤ 4.326</text>\n",
       "<text text-anchor=\"start\" x=\"142\" y=\"-156.8\" font-family=\"Helvetica,sans-Serif\" font-size=\"14.00\">entropy = 0.439</text>\n",
       "<text text-anchor=\"start\" x=\"148.5\" y=\"-141.8\" font-family=\"Helvetica,sans-Serif\" font-size=\"14.00\">samples = 11</text>\n",
       "<text text-anchor=\"start\" x=\"139\" y=\"-126.8\" font-family=\"Helvetica,sans-Serif\" font-size=\"14.00\">value = [1, 0, 10]</text>\n",
       "<text text-anchor=\"start\" x=\"162\" y=\"-111.8\" font-family=\"Helvetica,sans-Serif\" font-size=\"14.00\">class = 2</text>\n",
       "</g>\n",
       "<!-- 0&#45;&gt;1 -->\n",
       "<g id=\"edge1\" class=\"edge\">\n",
       "<title>0&#45;&gt;1</title>\n",
       "<path fill=\"none\" stroke=\"black\" d=\"M233.25,-222.91C228.27,-214.2 222.94,-204.9 217.79,-195.89\"/>\n",
       "<polygon fill=\"black\" stroke=\"black\" points=\"220.71,-193.96 212.7,-187.02 214.64,-197.44 220.71,-193.96\"/>\n",
       "<text text-anchor=\"middle\" x=\"206.15\" y=\"-207.45\" font-family=\"Helvetica,sans-Serif\" font-size=\"14.00\">True</text>\n",
       "</g>\n",
       "<!-- 4 -->\n",
       "<g id=\"node5\" class=\"node\">\n",
       "<title>4</title>\n",
       "<path fill=\"#ebfcf2\" stroke=\"black\" d=\"M371,-187C371,-187 278,-187 278,-187 272,-187 266,-181 266,-175 266,-175 266,-116 266,-116 266,-110 272,-104 278,-104 278,-104 371,-104 371,-104 377,-104 383,-110 383,-116 383,-116 383,-175 383,-175 383,-181 377,-187 371,-187\"/>\n",
       "<text text-anchor=\"start\" x=\"289\" y=\"-171.8\" font-family=\"Helvetica,sans-Serif\" font-size=\"14.00\">x_1 ≤ 2.849</text>\n",
       "<text text-anchor=\"start\" x=\"277\" y=\"-156.8\" font-family=\"Helvetica,sans-Serif\" font-size=\"14.00\">entropy = 0.998</text>\n",
       "<text text-anchor=\"start\" x=\"283.5\" y=\"-141.8\" font-family=\"Helvetica,sans-Serif\" font-size=\"14.00\">samples = 19</text>\n",
       "<text text-anchor=\"start\" x=\"274\" y=\"-126.8\" font-family=\"Helvetica,sans-Serif\" font-size=\"14.00\">value = [9, 10, 0]</text>\n",
       "<text text-anchor=\"start\" x=\"297\" y=\"-111.8\" font-family=\"Helvetica,sans-Serif\" font-size=\"14.00\">class = 1</text>\n",
       "</g>\n",
       "<!-- 0&#45;&gt;4 -->\n",
       "<g id=\"edge4\" class=\"edge\">\n",
       "<title>0&#45;&gt;4</title>\n",
       "<path fill=\"none\" stroke=\"black\" d=\"M280.09,-222.91C285.16,-214.2 290.56,-204.9 295.79,-195.89\"/>\n",
       "<polygon fill=\"black\" stroke=\"black\" points=\"298.95,-197.43 300.95,-187.02 292.9,-193.91 298.95,-197.43\"/>\n",
       "<text text-anchor=\"middle\" x=\"307.35\" y=\"-207.49\" font-family=\"Helvetica,sans-Serif\" font-size=\"14.00\">False</text>\n",
       "</g>\n",
       "<!-- 2 -->\n",
       "<g id=\"node3\" class=\"node\">\n",
       "<title>2</title>\n",
       "<path fill=\"#8139e5\" stroke=\"black\" d=\"M105,-68C105,-68 12,-68 12,-68 6,-68 0,-62 0,-56 0,-56 0,-12 0,-12 0,-6 6,0 12,0 12,0 105,0 105,0 111,0 117,-6 117,-12 117,-12 117,-56 117,-56 117,-62 111,-68 105,-68\"/>\n",
       "<text text-anchor=\"start\" x=\"18.5\" y=\"-52.8\" font-family=\"Helvetica,sans-Serif\" font-size=\"14.00\">entropy = 0.0</text>\n",
       "<text text-anchor=\"start\" x=\"17.5\" y=\"-37.8\" font-family=\"Helvetica,sans-Serif\" font-size=\"14.00\">samples = 10</text>\n",
       "<text text-anchor=\"start\" x=\"8\" y=\"-22.8\" font-family=\"Helvetica,sans-Serif\" font-size=\"14.00\">value = [0, 0, 10]</text>\n",
       "<text text-anchor=\"start\" x=\"31\" y=\"-7.8\" font-family=\"Helvetica,sans-Serif\" font-size=\"14.00\">class = 2</text>\n",
       "</g>\n",
       "<!-- 1&#45;&gt;2 -->\n",
       "<g id=\"edge2\" class=\"edge\">\n",
       "<title>1&#45;&gt;2</title>\n",
       "<path fill=\"none\" stroke=\"black\" d=\"M140.72,-103.73C129.37,-94.24 117.31,-84.16 106.01,-74.72\"/>\n",
       "<polygon fill=\"black\" stroke=\"black\" points=\"108.26,-72.03 98.34,-68.3 103.77,-77.4 108.26,-72.03\"/>\n",
       "</g>\n",
       "<!-- 3 -->\n",
       "<g id=\"node4\" class=\"node\">\n",
       "<title>3</title>\n",
       "<path fill=\"#e58139\" stroke=\"black\" d=\"M233.5,-68C233.5,-68 147.5,-68 147.5,-68 141.5,-68 135.5,-62 135.5,-56 135.5,-56 135.5,-12 135.5,-12 135.5,-6 141.5,0 147.5,0 147.5,0 233.5,0 233.5,0 239.5,0 245.5,-6 245.5,-12 245.5,-12 245.5,-56 245.5,-56 245.5,-62 239.5,-68 233.5,-68\"/>\n",
       "<text text-anchor=\"start\" x=\"150.5\" y=\"-52.8\" font-family=\"Helvetica,sans-Serif\" font-size=\"14.00\">entropy = 0.0</text>\n",
       "<text text-anchor=\"start\" x=\"153\" y=\"-37.8\" font-family=\"Helvetica,sans-Serif\" font-size=\"14.00\">samples = 1</text>\n",
       "<text text-anchor=\"start\" x=\"143.5\" y=\"-22.8\" font-family=\"Helvetica,sans-Serif\" font-size=\"14.00\">value = [1, 0, 0]</text>\n",
       "<text text-anchor=\"start\" x=\"163\" y=\"-7.8\" font-family=\"Helvetica,sans-Serif\" font-size=\"14.00\">class = 0</text>\n",
       "</g>\n",
       "<!-- 1&#45;&gt;3 -->\n",
       "<g id=\"edge3\" class=\"edge\">\n",
       "<title>1&#45;&gt;3</title>\n",
       "<path fill=\"none\" stroke=\"black\" d=\"M189.87,-103.73C189.95,-95.52 190.03,-86.86 190.1,-78.56\"/>\n",
       "<polygon fill=\"black\" stroke=\"black\" points=\"193.6,-78.33 190.2,-68.3 186.6,-78.27 193.6,-78.33\"/>\n",
       "</g>\n",
       "<!-- 5 -->\n",
       "<g id=\"node6\" class=\"node\">\n",
       "<title>5</title>\n",
       "<path fill=\"#39e581\" stroke=\"black\" d=\"M370,-68C370,-68 277,-68 277,-68 271,-68 265,-62 265,-56 265,-56 265,-12 265,-12 265,-6 271,0 277,0 277,0 370,0 370,0 376,0 382,-6 382,-12 382,-12 382,-56 382,-56 382,-62 376,-68 370,-68\"/>\n",
       "<text text-anchor=\"start\" x=\"283.5\" y=\"-52.8\" font-family=\"Helvetica,sans-Serif\" font-size=\"14.00\">entropy = 0.0</text>\n",
       "<text text-anchor=\"start\" x=\"282.5\" y=\"-37.8\" font-family=\"Helvetica,sans-Serif\" font-size=\"14.00\">samples = 10</text>\n",
       "<text text-anchor=\"start\" x=\"273\" y=\"-22.8\" font-family=\"Helvetica,sans-Serif\" font-size=\"14.00\">value = [0, 10, 0]</text>\n",
       "<text text-anchor=\"start\" x=\"296\" y=\"-7.8\" font-family=\"Helvetica,sans-Serif\" font-size=\"14.00\">class = 1</text>\n",
       "</g>\n",
       "<!-- 4&#45;&gt;5 -->\n",
       "<g id=\"edge5\" class=\"edge\">\n",
       "<title>4&#45;&gt;5</title>\n",
       "<path fill=\"none\" stroke=\"black\" d=\"M324.13,-103.73C324.05,-95.52 323.97,-86.86 323.9,-78.56\"/>\n",
       "<polygon fill=\"black\" stroke=\"black\" points=\"327.4,-78.27 323.8,-68.3 320.4,-78.33 327.4,-78.27\"/>\n",
       "</g>\n",
       "<!-- 6 -->\n",
       "<g id=\"node7\" class=\"node\">\n",
       "<title>6</title>\n",
       "<path fill=\"#e58139\" stroke=\"black\" d=\"M498.5,-68C498.5,-68 412.5,-68 412.5,-68 406.5,-68 400.5,-62 400.5,-56 400.5,-56 400.5,-12 400.5,-12 400.5,-6 406.5,0 412.5,0 412.5,0 498.5,0 498.5,0 504.5,0 510.5,-6 510.5,-12 510.5,-12 510.5,-56 510.5,-56 510.5,-62 504.5,-68 498.5,-68\"/>\n",
       "<text text-anchor=\"start\" x=\"415.5\" y=\"-52.8\" font-family=\"Helvetica,sans-Serif\" font-size=\"14.00\">entropy = 0.0</text>\n",
       "<text text-anchor=\"start\" x=\"418\" y=\"-37.8\" font-family=\"Helvetica,sans-Serif\" font-size=\"14.00\">samples = 9</text>\n",
       "<text text-anchor=\"start\" x=\"408.5\" y=\"-22.8\" font-family=\"Helvetica,sans-Serif\" font-size=\"14.00\">value = [9, 0, 0]</text>\n",
       "<text text-anchor=\"start\" x=\"428\" y=\"-7.8\" font-family=\"Helvetica,sans-Serif\" font-size=\"14.00\">class = 0</text>\n",
       "</g>\n",
       "<!-- 4&#45;&gt;6 -->\n",
       "<g id=\"edge6\" class=\"edge\">\n",
       "<title>4&#45;&gt;6</title>\n",
       "<path fill=\"none\" stroke=\"black\" d=\"M373.28,-103.73C384.63,-94.24 396.69,-84.16 407.99,-74.72\"/>\n",
       "<polygon fill=\"black\" stroke=\"black\" points=\"410.23,-77.4 415.66,-68.3 405.74,-72.03 410.23,-77.4\"/>\n",
       "</g>\n",
       "</g>\n",
       "</svg>\n"
      ],
      "text/plain": [
       "<graphviz.sources.Source at 0x7fe59886d910>"
      ]
     },
     "execution_count": 13,
     "metadata": {},
     "output_type": "execute_result"
    },
    {
     "data": {
      "application/javascript": [
       "\n",
       "            setTimeout(function() {\n",
       "                var nbb_cell_id = 13;\n",
       "                var nbb_unformatted_code = \"import sklearn\\nfrom sklearn.tree import DecisionTreeClassifier\\nimport graphviz\\n\\n# Create and train a tree\\nclf = DecisionTreeClassifier(random_state=0, criterion=\\\"entropy\\\")\\nclf.fit(X, y)\\n\\n# Use the graphviz package to render the tree\\ndot_data = sklearn.tree.export_graphviz(\\n    clf,\\n    out_file=None,\\n    feature_names=[\\\"x_0\\\", \\\"x_1\\\"],\\n    class_names=[\\\"0\\\", \\\"1\\\", \\\"2\\\"],\\n    filled=True,\\n    rounded=True,\\n    special_characters=True,\\n)\\n\\ngraph = graphviz.Source(dot_data)\\ngraph\";\n",
       "                var nbb_formatted_code = \"import sklearn\\nfrom sklearn.tree import DecisionTreeClassifier\\nimport graphviz\\n\\n# Create and train a tree\\nclf = DecisionTreeClassifier(random_state=0, criterion=\\\"entropy\\\")\\nclf.fit(X, y)\\n\\n# Use the graphviz package to render the tree\\ndot_data = sklearn.tree.export_graphviz(\\n    clf,\\n    out_file=None,\\n    feature_names=[\\\"x_0\\\", \\\"x_1\\\"],\\n    class_names=[\\\"0\\\", \\\"1\\\", \\\"2\\\"],\\n    filled=True,\\n    rounded=True,\\n    special_characters=True,\\n)\\n\\ngraph = graphviz.Source(dot_data)\\ngraph\";\n",
       "                var nbb_cells = Jupyter.notebook.get_cells();\n",
       "                for (var i = 0; i < nbb_cells.length; ++i) {\n",
       "                    if (nbb_cells[i].input_prompt_number == nbb_cell_id) {\n",
       "                        if (nbb_cells[i].get_text() == nbb_unformatted_code) {\n",
       "                             nbb_cells[i].set_text(nbb_formatted_code);\n",
       "                        }\n",
       "                        break;\n",
       "                    }\n",
       "                }\n",
       "            }, 500);\n",
       "            "
      ],
      "text/plain": [
       "<IPython.core.display.Javascript object>"
      ]
     },
     "metadata": {},
     "output_type": "display_data"
    }
   ],
   "source": [
    "import sklearn\n",
    "from sklearn.tree import DecisionTreeClassifier\n",
    "import graphviz\n",
    "\n",
    "# Create and train a tree\n",
    "clf = DecisionTreeClassifier(random_state=0, criterion=\"entropy\")\n",
    "clf.fit(X, y)\n",
    "\n",
    "# Use the graphviz package to render the tree\n",
    "dot_data = sklearn.tree.export_graphviz(\n",
    "    clf,\n",
    "    out_file=None,\n",
    "    feature_names=[\"x_0\", \"x_1\"],\n",
    "    class_names=[\"0\", \"1\", \"2\"],\n",
    "    filled=True,\n",
    "    rounded=True,\n",
    "    special_characters=True,\n",
    ")\n",
    "\n",
    "graph = graphviz.Source(dot_data)\n",
    "graph"
   ]
  },
  {
   "cell_type": "markdown",
   "id": "1e7904c5",
   "metadata": {},
   "source": [
    "Let's traverse this tree for a test point $\\mathbf{x}^{(t)}=\\begin{bmatrix}0,2\\end{bmatrix}^\\top$:\n",
    "\n",
    "- The first node checks whether $\\mathbf{x}^{(t)}_0$ is less than or equal to $-0.5$. It is not, so we go down the \"false\" path on the right\n",
    "- The next node checks whether $\\mathbf{x}^{(t)}_1$ is less than or equal to $2.849$. It is, so we go down the \"true\" path on the left\n",
    "- We're now at a leaf node, so we classify accordingly as class $1$.\n",
    "\n",
    "We can check this with some code:"
   ]
  },
  {
   "cell_type": "code",
   "execution_count": 16,
   "id": "4054025e",
   "metadata": {},
   "outputs": [
    {
     "data": {
      "text/plain": [
       "array([1])"
      ]
     },
     "execution_count": 16,
     "metadata": {},
     "output_type": "execute_result"
    },
    {
     "data": {
      "application/javascript": [
       "\n",
       "            setTimeout(function() {\n",
       "                var nbb_cell_id = 16;\n",
       "                var nbb_unformatted_code = \"clf.predict(np.array([[0, 2]]))\";\n",
       "                var nbb_formatted_code = \"clf.predict(np.array([[0, 2]]))\";\n",
       "                var nbb_cells = Jupyter.notebook.get_cells();\n",
       "                for (var i = 0; i < nbb_cells.length; ++i) {\n",
       "                    if (nbb_cells[i].input_prompt_number == nbb_cell_id) {\n",
       "                        if (nbb_cells[i].get_text() == nbb_unformatted_code) {\n",
       "                             nbb_cells[i].set_text(nbb_formatted_code);\n",
       "                        }\n",
       "                        break;\n",
       "                    }\n",
       "                }\n",
       "            }, 500);\n",
       "            "
      ],
      "text/plain": [
       "<IPython.core.display.Javascript object>"
      ]
     },
     "metadata": {},
     "output_type": "display_data"
    }
   ],
   "source": [
    "clf.predict(np.array([[0, 2]]))"
   ]
  },
  {
   "cell_type": "markdown",
   "id": "e0ebc54b",
   "metadata": {},
   "source": [
    "We can look at the decision boundary of the decision tree to get an idea of what would happen to points more generally."
   ]
  },
  {
   "cell_type": "code",
   "execution_count": 17,
   "id": "e9add901",
   "metadata": {},
   "outputs": [
    {
     "data": {
      "image/png": "[encoded data removed]",
      "text/plain": [
       "<Figure size 432x432 with 1 Axes>"
      ]
     },
     "metadata": {
      "needs_background": "light"
     },
     "output_type": "display_data"
    },
    {
     "data": {
      "application/javascript": [
       "\n",
       "            setTimeout(function() {\n",
       "                var nbb_cell_id = 17;\n",
       "                var nbb_unformatted_code = \"# Imports for plotting the decision boundary\\nfrom matplotlib.colors import ListedColormap\\nfrom sklearn.inspection import DecisionBoundaryDisplay\\n\\n# Repeat the plot from above\\nfig, ax = plt.subplots(figsize=[6, 6])\\nax.scatter(X[y == 0, 0], X[y == 0, 1], color=colours[0])\\nax.scatter(X[y == 1, 0], X[y == 1, 1], color=colours[1], marker=\\\"s\\\")\\nax.scatter(X[y == 2, 0], X[y == 2, 1], color=colours[2], marker=\\\"D\\\")\\nax.grid()\\nax.set_xlabel(\\\"$x_0$\\\")\\nax.set_ylabel(\\\"$x_1$\\\")\\nplt.legend([\\\"class 0\\\", \\\"class 1\\\", \\\"class 2\\\"])\\n\\n# Add the decision boundary\\ndisp = DecisionBoundaryDisplay.from_estimator(\\n    clf,\\n    X,\\n    response_method=\\\"predict\\\",\\n    alpha=0.3,\\n    grid_resolution=100,\\n    ax=ax,\\n    cmap=ListedColormap(colours),\\n)\";\n",
       "                var nbb_formatted_code = \"# Imports for plotting the decision boundary\\nfrom matplotlib.colors import ListedColormap\\nfrom sklearn.inspection import DecisionBoundaryDisplay\\n\\n# Repeat the plot from above\\nfig, ax = plt.subplots(figsize=[6, 6])\\nax.scatter(X[y == 0, 0], X[y == 0, 1], color=colours[0])\\nax.scatter(X[y == 1, 0], X[y == 1, 1], color=colours[1], marker=\\\"s\\\")\\nax.scatter(X[y == 2, 0], X[y == 2, 1], color=colours[2], marker=\\\"D\\\")\\nax.grid()\\nax.set_xlabel(\\\"$x_0$\\\")\\nax.set_ylabel(\\\"$x_1$\\\")\\nplt.legend([\\\"class 0\\\", \\\"class 1\\\", \\\"class 2\\\"])\\n\\n# Add the decision boundary\\ndisp = DecisionBoundaryDisplay.from_estimator(\\n    clf,\\n    X,\\n    response_method=\\\"predict\\\",\\n    alpha=0.3,\\n    grid_resolution=100,\\n    ax=ax,\\n    cmap=ListedColormap(colours),\\n)\";\n",
       "                var nbb_cells = Jupyter.notebook.get_cells();\n",
       "                for (var i = 0; i < nbb_cells.length; ++i) {\n",
       "                    if (nbb_cells[i].input_prompt_number == nbb_cell_id) {\n",
       "                        if (nbb_cells[i].get_text() == nbb_unformatted_code) {\n",
       "                             nbb_cells[i].set_text(nbb_formatted_code);\n",
       "                        }\n",
       "                        break;\n",
       "                    }\n",
       "                }\n",
       "            }, 500);\n",
       "            "
      ],
      "text/plain": [
       "<IPython.core.display.Javascript object>"
      ]
     },
     "metadata": {},
     "output_type": "display_data"
    }
   ],
   "source": [
    "# Imports for plotting the decision boundary\n",
    "from matplotlib.colors import ListedColormap\n",
    "from sklearn.inspection import DecisionBoundaryDisplay\n",
    "\n",
    "# Repeat the plot from above\n",
    "fig, ax = plt.subplots(figsize=[6, 6])\n",
    "ax.scatter(X[y == 0, 0], X[y == 0, 1], color=colours[0])\n",
    "ax.scatter(X[y == 1, 0], X[y == 1, 1], color=colours[1], marker=\"s\")\n",
    "ax.scatter(X[y == 2, 0], X[y == 2, 1], color=colours[2], marker=\"D\")\n",
    "ax.grid()\n",
    "ax.set_xlabel(\"$x_0$\")\n",
    "ax.set_ylabel(\"$x_1$\")\n",
    "plt.legend([\"class 0\", \"class 1\", \"class 2\"])\n",
    "\n",
    "# Add the decision boundary\n",
    "disp = DecisionBoundaryDisplay.from_estimator(\n",
    "    clf,\n",
    "    X,\n",
    "    response_method=\"predict\",\n",
    "    alpha=0.3,\n",
    "    grid_resolution=100,\n",
    "    ax=ax,\n",
    "    cmap=ListedColormap(colours),\n",
    ")"
   ]
  },
  {
   "cell_type": "markdown",
   "id": "8dea32ac",
   "metadata": {},
   "source": [
    "The decision boundary is non-linear, but consists of a bunch of horizontal and vertical lines! Each node separates data points according to some threshold for one particular feature, and corresponds to one of these lines.\n",
    "\n",
    "We haven't yet reminded ourselves of the training procedure. We start with a node that intends to splits the whole training set $Q_0$ into $Q_0^{left}$ and $Q_0^{right}$ according to\n",
    "\n",
    "$$Q_0^{left}(d,t_0) = \\{\\mathbf{x}^{(n)}, y^{(n)}\\}_{n:x^{(n)}_d\\leq t_0}$$\n",
    "\n",
    "$$Q_0^{right}(d,t_0) = \\{\\mathbf{x}^{(n)}, y^{(n)}\\}_{n:x^{(n)}_d> t_0}$$\n",
    "\n",
    "For this split to happen, we need to pick some threshold $t_0$ and a feature $d$. These are found by minimising\n",
    "\n",
    "$$L_{0}=\\frac{n_0^{left}}{n_0} H(Q_0^{left}(d,t_0))+ \\frac{n_0^{right}}{n_0}H(Q_0^{right}(d,t_0))$$\n",
    "\n",
    "where $n_0$, $n_0^{left}$, and $n_0^{right}$ are the number of points in $Q_0$,$Q_0^{left}$ and $Q_0^{right}$ respectively and $H$ is typically entropy or Gini impurity. We then grow two child nodes that intend to split $Q_0^{left}$ and $Q_0^{right}$ respectively and continue splitting and growing until we reach some maximum depth, or we have managed to separate all our classes."
   ]
  },
  {
   "cell_type": "markdown",
   "id": "a933fd69",
   "metadata": {},
   "source": [
    "## Random Forests\n",
    "\n",
    "Random forests are an ensemble of trained decision trees. These employ bootstrap aggregation (bagging). This means that each tree is trained on a random sample of the data selected with replacement. Furthermore, at each new node when training only a subset of features are available to use for splitting (feature subsampling).\n",
    "\n",
    "Bagging stops the overall ensemble from relying too much on individual data points, and feature subsampling does the same for features. This helps with generalisation. You will investigate random forests further in the lab, although you will be glad to know that they can be trained straightforwardly using sklearn!"
   ]
  },
  {
   "cell_type": "markdown",
   "id": "52a6897b",
   "metadata": {},
   "source": [
    "<hr style=\"border:2px solid black\"> </hr>\n",
    "\n",
    "#### Written by Elliot J. Crowley and &copy; The University of Edinburgh 2022-23"
   ]
  }
 ],
 "metadata": {
  "kernelspec": {
   "display_name": "Python 3 (ipykernel)",
   "language": "python",
   "name": "python3"
  },
  "language_info": {
   "codemirror_mode": {
    "name": "ipython",
    "version": 3
   },
   "file_extension": ".py",
   "mimetype": "text/x-python",
   "name": "python",
   "nbconvert_exporter": "python",
   "pygments_lexer": "ipython3",
   "version": "3.9.12"
  }
 },
 "nbformat": 4,
 "nbformat_minor": 5
}
