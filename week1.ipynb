{
 "cells": [
  {
   "cell_type": "markdown",
   "id": "0bd4f525",
   "metadata": {},
   "source": [
    "# DAML4  notes\n",
    "## Week 1 - Data modalities"
   ]
  },
  {
   "cell_type": "markdown",
   "id": "9116f1bf",
   "metadata": {},
   "source": [
    "<hr style=\"border:2px solid black\"> </hr>"
   ]
  },
  {
   "cell_type": "markdown",
   "id": "75f7e27d",
   "metadata": {},
   "source": [
    "## What are these notebooks for?\n",
    "\n",
    "Each week of the course has a lecture and a lab. In the lecture you are introduced to material, and in the lab you use Python to solve problems using that material.\n",
    "\n",
    "These notebooks act as a bridge between the lecture and the lab. Each one summarises the lecture, and provides code examples as a starting point for writing your own code. I will be importing packages on-the-fly as needed so you can see exactly when they are required. In the labs, imports will be done at the start.\n",
    "\n",
    "The first lecture was slightly unusual, in that it was also an introduction to the course. I am not going to summarise the introduction (whatever that would entail) but I am going to look at different data modalities, and how you can process them in Python.\n",
    "\n",
    "## Data modalities"
   ]
  },
  {
   "cell_type": "markdown",
   "id": "5628cb6b",
   "metadata": {},
   "source": [
    "### Time series \n",
    "\n",
    "In time series data, we have some quantity we care about at different points in time.   We are going to consider the value of the pound (GBP) vs. the dollar (USD). A lot of the time we import our data from spreadsheets (e.g. excel files, CSV files) and this is no exception!\n",
    "\n",
    "I have already downloaded the spreadsheet containing GBP vs. USD values from 04/10/2021 to 03/10/2022 from [Yahoo Finance](https://finance.yahoo.com/quote/GBPUSD%3DX%3B/history?period1=1633265701&period2=1664801701&interval=1d&filter=history&frequency=1d&includeAdjustedClose=true) which is in CSV format. \n",
    "\n",
    "How do we get this into Python? There is a fantastic library called pandas which does all the hard work for us.\n",
    "\n",
    "\n",
    "\n"
   ]
  },
  {
   "cell_type": "code",
   "execution_count": null,
   "id": "6779cc32",
   "metadata": {},
   "outputs": [],
   "source": [
    "# Import pandas for dataframes\n",
    "import pandas as pd\n",
    "\n",
    "# Read CSV into dataframe using pandas\n",
    "df = pd.read_csv(\"data/GBPUSD=X.csv\")\n",
    "\n",
    "# Show dataframe\n",
    "df"
   ]
  },
  {
   "cell_type": "markdown",
   "id": "38c4f170",
   "metadata": {},
   "source": [
    "Let's say we care about the closing value at the end of each day. This is in the `Close` column. We can plot this against `Date` using a few lines of code."
   ]
  },
  {
   "cell_type": "code",
   "execution_count": null,
   "id": "a129e38b",
   "metadata": {},
   "outputs": [],
   "source": [
    "# matplotlib for plotting\n",
    "import matplotlib.pyplot as plt\n",
    "\n",
    "# This makes matplotlib output nice figures without much tweaking\n",
    "plt.rcParams.update(\n",
    "    {\n",
    "        \"lines.markersize\": 10,  # Big points\n",
    "        \"font.size\": 15,  # Larger font\n",
    "        \"xtick.major.size\": 5.0,  # Bigger xticks\n",
    "        \"ytick.major.size\": 5.0,  # Bigger yticks\n",
    "    }\n",
    ")\n",
    "\n",
    "# Plotting code\n",
    "fig, ax = plt.subplots(figsize=[8,6])\n",
    "ax.plot(df[\"Date\"], df[\"Close\"])\n",
    "ax.set_xlabel('Date')\n",
    "ax.set_ylabel('GBP to USD rate')\n",
    "ax.set_title('GBP vs USD from October 2021-2022')\n",
    "\n",
    "\n",
    "# Formatting specifically for date strings\n",
    "fig.autofmt_xdate()\n",
    "\n",
    "\n",
    "# A hacky way of showing a subset of x ticks\n",
    "dates = df[\"Date\"].to_numpy()\n",
    "ax.set_xticks([dates[i] for i in range(0, len(dates), 50)])\n"
   ]
  },
  {
   "cell_type": "markdown",
   "id": "1f29119b",
   "metadata": {},
   "source": [
    "We can also take a column and convert it into a numpy array. Let's take the `Close` column, convert it into an array, and find its mean. (This can be done directly in pandas but is for illustration!)"
   ]
  },
  {
   "cell_type": "code",
   "execution_count": null,
   "id": "c3f604d6",
   "metadata": {},
   "outputs": [],
   "source": [
    "# import numpy for arrays\n",
    "import numpy as np\n",
    "\n",
    "close_array = df[\"Close\"].to_numpy()\n",
    "\n",
    "close_mean = np.mean(close_array)\n",
    "print(f\"The mean close value is {close_mean:3f}\")"
   ]
  },
  {
   "cell_type": "markdown",
   "id": "721e825b",
   "metadata": {},
   "source": [
    "### Tabular data\n",
    "\n",
    "We actually did just extract our time series data from tabular data! Tabular data will make up the vast majority of data you look at in this course. It is very common in the real world. \n",
    "\n",
    "Let's say we want the list of dates for which the opening value of GBP vs. USD was greater than 1.3.\n",
    "\n",
    "First, we can see which rows this corresponds to:"
   ]
  },
  {
   "cell_type": "code",
   "execution_count": null,
   "id": "22236812",
   "metadata": {},
   "outputs": [],
   "source": [
    "valid_rows = df[\"Open\"] > 1.3\n",
    "print(valid_rows)"
   ]
  },
  {
   "cell_type": "markdown",
   "id": "9b489c0d",
   "metadata": {},
   "source": [
    "We can then use this boolean array to filter out the appropriate dates."
   ]
  },
  {
   "cell_type": "code",
   "execution_count": null,
   "id": "aafb49fd",
   "metadata": {},
   "outputs": [],
   "source": [
    "df[\"Date\"][valid_rows]"
   ]
  },
  {
   "cell_type": "markdown",
   "id": "4fe4b0eb",
   "metadata": {},
   "source": [
    "If we want to get the rows that correspond to dates in the year 2022, we can use the following to get a Boolean array, and filter with it."
   ]
  },
  {
   "cell_type": "code",
   "execution_count": null,
   "id": "3ebe7013",
   "metadata": {},
   "outputs": [],
   "source": [
    "valid_rows = df[\"Date\"].str.contains(\"2022\")\n",
    "df[valid_rows]"
   ]
  },
  {
   "cell_type": "markdown",
   "id": "e104850c",
   "metadata": {},
   "source": [
    "### Images\n",
    "\n",
    "PIL (the Python imaging library) lets us read in images, as well as perform high-level manipulations. We will load in a JPEG of a dog, and also print image size in pixels."
   ]
  },
  {
   "cell_type": "code",
   "execution_count": null,
   "id": "a143cc88",
   "metadata": {},
   "outputs": [],
   "source": [
    "# Image from PIL lets us manipulate images\n",
    "from PIL import Image\n",
    "\n",
    "# Read image\n",
    "image = Image.open(\"data/dog.jpg\")\n",
    "\n",
    "# Use Juypter's inbuilt display function\n",
    "display(image)\n",
    "print(f\"The image has a size of {image.size}\")"
   ]
  },
  {
   "cell_type": "markdown",
   "id": "309fcb9a",
   "metadata": {},
   "source": [
    "We can downsize the image..."
   ]
  },
  {
   "cell_type": "code",
   "execution_count": null,
   "id": "8758d66c",
   "metadata": {},
   "outputs": [],
   "source": [
    "image = image.resize((224, 224))\n",
    "display(image)"
   ]
  },
  {
   "cell_type": "markdown",
   "id": "b2c72978",
   "metadata": {},
   "source": [
    "and rotate it!"
   ]
  },
  {
   "cell_type": "code",
   "execution_count": null,
   "id": "62141899",
   "metadata": {},
   "outputs": [],
   "source": [
    "image = image.rotate(90)\n",
    "display(image)"
   ]
  },
  {
   "cell_type": "markdown",
   "id": "bc133b8d",
   "metadata": {},
   "source": [
    "Recall from the lectures that an image is actually stored as a 3D array (height by width by colour channel). We can see this if we convert our image into a numpy array."
   ]
  },
  {
   "cell_type": "code",
   "execution_count": null,
   "id": "dea3069b",
   "metadata": {},
   "outputs": [],
   "source": [
    "# Convert image into a numpy array\n",
    "data_im = np.array(image)\n",
    "\n",
    "# See what the array looks like and print its shape\n",
    "print(data_im)\n",
    "print(f\"the image in numpy has shape {data_im.shape}\")"
   ]
  },
  {
   "cell_type": "markdown",
   "id": "d3986fbf",
   "metadata": {},
   "source": [
    "Let's manually set the red colour channel to zero for all pixels and see what happens."
   ]
  },
  {
   "cell_type": "code",
   "execution_count": null,
   "id": "47f58343",
   "metadata": {},
   "outputs": [],
   "source": [
    "# Create a copy of our image array\n",
    "data_nored = data_im.copy()\n",
    "\n",
    "# Set all values in the red channel to 0\n",
    "data_nored[:, :, 0] = 0\n",
    "\n",
    "# Now we have a numpy array we have to use matplotlib to display it\n",
    "plt.imshow(data_nored)"
   ]
  },
  {
   "cell_type": "markdown",
   "id": "f6e60fb7",
   "metadata": {},
   "source": [
    "Without any red, the blue and green have got more ... blue and green. This wasn't the most obvious manipulation! Try some others by changing the code above."
   ]
  },
  {
   "cell_type": "markdown",
   "id": "0df09bfd",
   "metadata": {},
   "source": [
    "<hr style=\"border:2px solid black\"> </hr>\n",
    "\n",
    "#### Written by Elliot J. Crowley and &copy; The University of Edinburgh 2022-23"
   ]
  }
 ],
 "metadata": {
  "kernelspec": {
   "display_name": "Python 3 (ipykernel)",
   "language": "python",
   "name": "python3"
  },
  "language_info": {
   "codemirror_mode": {
    "name": "ipython",
    "version": 3
   },
   "file_extension": ".py",
   "mimetype": "text/x-python",
   "name": "python",
   "nbconvert_exporter": "python",
   "pygments_lexer": "ipython3",
   "version": "3.9.12"
  }
 },
 "nbformat": 4,
 "nbformat_minor": 5
}
