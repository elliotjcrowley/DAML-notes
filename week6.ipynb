{
 "cells": [
  {
   "cell_type": "markdown",
   "id": "70bdaac8",
   "metadata": {},
   "source": [
    "# DAML4 notes\n",
    "## Week 6 - Linear classification\n",
    "<hr style=\"border:2px solid black\"> </hr>\n",
    "Given a training set of $N$ data point-target pairs $\\{\\mathbf{x}^{(n)}, y^{(n)}\\}_{n=0}^{N-1}$ where $\\mathbf{x}\\in \\mathbb{R}^{D}$ and $y\\in \\mathbb{Z}^+_{<K} = \\{0,1,\\ldots,K-1\\}$ the goal in classification is to obtain a model that can predict the correct class (i.e. correct value of $y$) for each training point. Although, what we actually want is for the model to generalise to unseen test data!\n",
    "\n",
    "\n"
   ]
  },
  {
   "cell_type": "markdown",
   "id": "a8d691ca",
   "metadata": {},
   "source": [
    "## Linear classifiers for binary classification\n",
    "\n",
    "In a binary classification problem, there are two possible labels. These are typically either denoted as $y\\in \\{0,1\\}$ or $y\\in \\{-1,1\\}$ depending on what is most mathematically convenient.\n",
    "\n",
    "A linear model for binary classification looks the same as a linear model for regression:\n",
    "\n",
    "\n",
    "$$f(\\mathbf{x}) = \\mathbf{w}^\\top \\phi(\\mathbf{x}) + b$$\n",
    "\n",
    "$\\phi$ is a transformation that maps $\\mathbf{x}$ to a feature vector $\\phi({\\mathbf{x}})\\in\\mathbb{R}^{Z}$ and $\\mathbf{w}\\in \\mathbb{R}^{Z}$ is a vector of learnable weights. The learnable bias $b\\in\\mathbb{R}^1$ is written explicitly.\n",
    "\n",
    "Once we have learnt the weights, $f(\\mathbf{x})$ can be used to make class predictions using some threshold function such as $\\hat{y}=\\begin{cases}\n",
    "          1 \\quad &\\text{if} \\, f(\\mathbf{x}) \\geq0 \\\\\n",
    "          0 \\quad &\\text{if} \\, f(\\mathbf{x})<0 \\\\\n",
    "     \\end{cases}$.\n",
    "\n",
    "\n",
    "For pedagogical reasons, we will consider **untransformed data** this week, and write our linear classifiers as $f(\\mathbf{x}) = \\mathbf{w}^\\top \\mathbf{x} + b$ with $\\mathbf{w}\\in \\mathbb{R}^{D}$.\n",
    "\n",
    "### Perceptrons\n",
    "\n",
    "A perceptron is a linear model for binary classification (aka a linear classifier) whose parameters (weights and biases) have been learnt through the perceptron algorithm.\n",
    "\n",
    "Assuming that the labels are given by $y\\in \\{-1,1\\}$, we will use the threshold function  $\\hat{y}=\\begin{cases}\n",
    "          1 \\quad &\\text{if} \\, f(\\mathbf{x}) \\geq0 \\\\\n",
    "          -1 \\quad &\\text{if} \\, f(\\mathbf{x})<0 \\\\\n",
    "     \\end{cases}$\n",
    "\n",
    "If $\\hat{y}^{(n)}$ is our class prediction for some training point $\\mathbf{x}^{(n)}$ then we want \n",
    "\n",
    "$$f(\\mathbf{x}^{(n)}) = \\mathbf{w}^\\top \\mathbf{x}^{(n)}+b\\quad\\text{s.t.} \\quad\\hat{y}^{(n)}=\\begin{cases}\n",
    "          1 \\quad &\\text{if} \\, f(\\mathbf{x}^{(n)}) \\geq  0 \\\\\n",
    "          -1 \\quad &\\text{if} \\, f(\\mathbf{x}^{(n)})<0 \\\\\n",
    "     \\end{cases}\\forall n\n",
    "$$\n",
    "\n",
    "This can be achieved using the perceptron learning algorithm: we iterate through shuffled training data and if some point $\\mathbf{x}^{(n)}$ is misclassified using the threshold function we update \n",
    "\n",
    "1. $\\mathbf{w} \\leftarrow \\mathbf{w} + \\alpha\\,y^{(n)} \\mathbf{x}^{(n)}$\n",
    "2. $b \\leftarrow b + \\alpha\\,y^{(n)} $\n",
    "\n",
    "\n",
    "We will turn to sklearn to generate some synthetic data for binary classification:"
   ]
  },
  {
   "cell_type": "code",
   "execution_count": 1,
   "id": "fafefa8e",
   "metadata": {},
   "outputs": [
    {
     "data": {
      "text/plain": [
       "<matplotlib.legend.Legend at 0x7fa397465e80>"
      ]
     },
     "execution_count": 1,
     "metadata": {},
     "output_type": "execute_result"
    },
    {
     "data": {
      "image/png": "[encoded data removed]",
      "text/plain": [
       "<Figure size 504x504 with 1 Axes>"
      ]
     },
     "metadata": {
      "needs_background": "light"
     },
     "output_type": "display_data"
    }
   ],
   "source": [
    "# Import numpy for arrays and matplotlib for plotting\n",
    "import numpy as np\n",
    "import matplotlib.pyplot as plt\n",
    "\n",
    "# This makes matplotlib output nice figures without much tweaking\n",
    "plt.rcParams.update(\n",
    "    {\n",
    "        \"lines.markersize\": 10,  # Big points\n",
    "        \"font.size\": 15,  # Larger font\n",
    "        \"xtick.major.size\": 5.0,  # Bigger xticks\n",
    "        \"ytick.major.size\": 5.0,  # Bigger yticks\n",
    "    }\n",
    ")\n",
    "\n",
    "# We can use sklearn to make synthetic data. Let's create two classes that are nicely separated.\n",
    "from sklearn.datasets import make_classification\n",
    "\n",
    "X, y = make_classification(\n",
    "    n_samples=20, n_features=2, random_state=0, n_redundant=0, class_sep=2\n",
    ")\n",
    "\n",
    "# Classes are 1 and 0 by default so I will change 0 to -1\n",
    "y[y == 0] = -1\n",
    "\n",
    "# We can produce a scatter plot of our data with colours corresponding to different classes\n",
    "colours = [\"b\", \"r\"]\n",
    "fig, ax = plt.subplots(figsize=[7, 7])\n",
    "ax.set_aspect(\"equal\", \"box\")\n",
    "ax.scatter(X[y == -1, 0], X[y == -1, 1], color=\"b\")\n",
    "ax.scatter(X[y == 1, 0], X[y == 1, 1], color=\"r\", marker=\"s\")\n",
    "ax.grid()\n",
    "ax.set_xlabel(\"$x_0$\")\n",
    "ax.set_ylabel(\"$x_1$\")\n",
    "plt.legend([\"class -1\", \"class 1\"])"
   ]
  },
  {
   "cell_type": "markdown",
   "id": "3833f206",
   "metadata": {},
   "source": [
    "We will use sklearn's [Perceptron](https://scikit-learn.org/stable/modules/generated/sklearn.linear_model.Perceptron.html) class to learn a linear model using the preceptron algorithm."
   ]
  },
  {
   "cell_type": "code",
   "execution_count": 2,
   "id": "be15e0c8",
   "metadata": {},
   "outputs": [
    {
     "name": "stdout",
     "output_type": "stream",
     "text": [
      "The learnt model has weights  [[3.8418426  1.26750559]] and bias [0.]\n"
     ]
    }
   ],
   "source": [
    "# Import perceptron class \n",
    "from sklearn.linear_model import Perceptron\n",
    "\n",
    "# Create a model and fit\n",
    "model = Perceptron(tol=1e-3, random_state=0)\n",
    "model.fit(X, y)\n",
    "\n",
    "print(f'The learnt model has weights {model.coef_} and bias {model.intercept_}')"
   ]
  },
  {
   "cell_type": "markdown",
   "id": "0b87ae04",
   "metadata": {},
   "source": [
    "We can now plot the decision boundary of the classifier alongside our data using some sklearn tools."
   ]
  },
  {
   "cell_type": "code",
   "execution_count": 3,
   "id": "e02ecbd0",
   "metadata": {},
   "outputs": [
    {
     "data": {
      "image/png": "[encoded data removed]",
      "text/plain": [
       "<Figure size 504x504 with 1 Axes>"
      ]
     },
     "metadata": {
      "needs_background": "light"
     },
     "output_type": "display_data"
    }
   ],
   "source": [
    "from sklearn.inspection import DecisionBoundaryDisplay\n",
    "from matplotlib.colors import ListedColormap\n",
    "\n",
    "# Produce the plot again\n",
    "fig, ax = plt.subplots(figsize=[7, 7])\n",
    "ax.set_aspect(\"equal\", \"box\")\n",
    "ax.scatter(X[y == -1, 0], X[y == -1, 1], color=\"b\")\n",
    "ax.scatter(X[y == 1, 0], X[y == 1, 1], color=\"r\", marker=\"s\")\n",
    "ax.grid()\n",
    "ax.set_xlabel(\"$x_0$\")\n",
    "ax.set_ylabel(\"$x_1$\")\n",
    "plt.legend([\"class -1\", \"class 1\"])\n",
    "\n",
    "# Add the decision boundary\n",
    "disp = DecisionBoundaryDisplay.from_estimator(\n",
    "    model,\n",
    "    X,\n",
    "    response_method=\"predict\",\n",
    "    alpha=0.3,\n",
    "    grid_resolution=500,\n",
    "    cmap=ListedColormap(colours),\n",
    "    ax=ax,\n",
    ")"
   ]
  },
  {
   "cell_type": "markdown",
   "id": "244bb258",
   "metadata": {},
   "source": [
    "This is a line, as we would expect. You can confirm this for yourself by writing out $f(\\mathbf{x})=0$ and rearranging the equation."
   ]
  },
  {
   "cell_type": "markdown",
   "id": "ce3ad91e",
   "metadata": {},
   "source": [
    "### Logistic regression"
   ]
  },
  {
   "cell_type": "markdown",
   "id": "975c5863",
   "metadata": {},
   "source": [
    "For logistic regression we denote the two classes as $y\\in \\{0,1\\}$ .\n",
    "\n",
    "To perform logistic regression, we define our model output $f(\\mathbf{x})$ as being the log-odds that some data point $\\mathbf{x}$ is in class 1. This relates to the probability $p(y=1 | \\mathbf{x})$ in that\n",
    "\n",
    "$$f(\\mathbf{x}) = \\log\\frac{p(y=1 | \\mathbf{x})}{1-p(y=1 | \\mathbf{x})}$$\n",
    "\n",
    "We don't output probabilities directly, as $f(\\mathbf{x})$ is unbounded, and can take all sorts of real values, whereas probabilities must be between 0 and 1.\n",
    "\n",
    "Because we are now dealing with probabilities we can turn to statistics to derive a meaningful loss function. We show in the lecture that the model parameters that maximise the likelihood of our data are the same parameters that minimise the cross entropy loss \n",
    "\n",
    "$$L_{CE}=- \\frac{1}{N}\\sum_n y^{(n)} \\log \\sigma(\\mathbf{w}^\\top  \\mathbf{x}^{(n)}+b)+({1-y^{(n)}})\\log(1- \\sigma( \\mathbf{w}^\\top \\mathbf{x}^{(n)}+b))$$\n",
    "\n",
    "where $\\sigma (z) = \\frac{1}{1+e^{-z}}$ is the sigmoid function.\n",
    "\n",
    "The code for performing logistic regression is very similar to the above but we instead use the [LogisticRegression](https://scikit-learn.org/stable/modules/generated/sklearn.linear_model.LogisticRegression.html) class. Let's learn the weights and bias, print them out."
   ]
  },
  {
   "cell_type": "code",
   "execution_count": 4,
   "id": "5f74abe2",
   "metadata": {},
   "outputs": [
    {
     "name": "stdout",
     "output_type": "stream",
     "text": [
      "The learnt model has weights  [[15.59262959  2.09271393]] and bias [4.08109386]\n"
     ]
    }
   ],
   "source": [
    "# Import logistic regresion class \n",
    "from sklearn.linear_model import LogisticRegression\n",
    "\n",
    "# Create a model and fit. \n",
    "#This includes L2 regularisation by default (which is sensible!) which is controlled by C\n",
    "# C is inverse to the strength of regularisation (C = 1/lambda) so lambda = 0 is equivalent to C=inf\n",
    "model = LogisticRegression(random_state=0,C=np.inf)\n",
    "model.fit(X, y)\n",
    "\n",
    "print(f'The learnt model has weights  {model.coef_} and bias {model.intercept_}')"
   ]
  },
  {
   "cell_type": "markdown",
   "id": "2ad4c3d0",
   "metadata": {},
   "source": [
    "Let's draw the decision boundary."
   ]
  },
  {
   "cell_type": "code",
   "execution_count": 5,
   "id": "ab2d3045",
   "metadata": {},
   "outputs": [
    {
     "data": {
      "image/png": "[encoded data removed]",
      "text/plain": [
       "<Figure size 504x504 with 1 Axes>"
      ]
     },
     "metadata": {
      "needs_background": "light"
     },
     "output_type": "display_data"
    }
   ],
   "source": [
    "# Produce the plot again\n",
    "fig, ax = plt.subplots(figsize=[7, 7])\n",
    "ax.set_aspect(\"equal\", \"box\")\n",
    "ax.scatter(X[y == -1, 0], X[y == -1, 1], color=\"b\")\n",
    "ax.scatter(X[y == 1, 0], X[y == 1, 1], color=\"r\", marker=\"s\")\n",
    "ax.grid()\n",
    "ax.set_xlabel(\"$x_0$\")\n",
    "ax.set_ylabel(\"$x_1$\")\n",
    "plt.legend([\"class -1\", \"class 1\"])\n",
    "\n",
    "# Add the decision boundary\n",
    "disp = DecisionBoundaryDisplay.from_estimator(\n",
    "    model,\n",
    "    X,\n",
    "    response_method=\"predict\",\n",
    "    alpha=0.3,\n",
    "    grid_resolution=500,\n",
    "    cmap=ListedColormap(colours),\n",
    "    ax=ax,\n",
    ")"
   ]
  },
  {
   "cell_type": "markdown",
   "id": "614c3b23",
   "metadata": {},
   "source": [
    "Given a test point e.g. $\\begin{bmatrix}0&0\\end{bmatrix}^\\top$ we can use `model.predict_proba()` to get the probability breakdown:"
   ]
  },
  {
   "cell_type": "code",
   "execution_count": 6,
   "id": "6ab9dbe0",
   "metadata": {},
   "outputs": [
    {
     "data": {
      "text/plain": [
       "array([[0.01660848, 0.98339152]])"
      ]
     },
     "execution_count": 6,
     "metadata": {},
     "output_type": "execute_result"
    }
   ],
   "source": [
    "model.predict_proba([[0, 0]])"
   ]
  },
  {
   "cell_type": "markdown",
   "id": "4977de61",
   "metadata": {},
   "source": [
    "This tells us that there is a low probability for class 0 (element 0) and a high probability for class 1 (element 1). These of course sum to 1!\n",
    "\n",
    "We have considered binary classifiers in this note, but in the lab you will perform multi-way classification using multinomial logistic regression."
   ]
  },
  {
   "cell_type": "markdown",
   "id": "767c842c",
   "metadata": {},
   "source": [
    "<hr style=\"border:2px solid black\"> </hr>\n",
    "\n",
    "#### Written by Elliot J. Crowley and &copy; The University of Edinburgh 2022-23"
   ]
  }
 ],
 "metadata": {
  "kernelspec": {
   "display_name": "Python 3 (ipykernel)",
   "language": "python",
   "name": "python3"
  },
  "language_info": {
   "codemirror_mode": {
    "name": "ipython",
    "version": 3
   },
   "file_extension": ".py",
   "mimetype": "text/x-python",
   "name": "python",
   "nbconvert_exporter": "python",
   "pygments_lexer": "ipython3",
   "version": "3.9.12"
  }
 },
 "nbformat": 4,
 "nbformat_minor": 5
}
