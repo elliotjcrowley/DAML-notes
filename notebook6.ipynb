{
 "cells": [
  {
   "cell_type": "markdown",
   "id": "70bdaac8",
   "metadata": {},
   "source": [
    "# DAML notes\n",
    "## 6. Linear models for classification\n",
    "\n",
    "<hr style=\"border:2px solid black\"> </hr>\n",
    "\n"
   ]
  },
  {
   "cell_type": "code",
   "execution_count": 1,
   "id": "6567796a",
   "metadata": {},
   "outputs": [],
   "source": [
    "# RUN THIS CELL FIRST\n",
    "\n",
    "# Imports\n",
    "import numpy as np\n",
    "import matplotlib.pyplot as plt\n",
    "from matplotlib.colors import ListedColormap\n",
    "\n",
    "# sklearn\n",
    "from sklearn.linear_model import LogisticRegression\n",
    "from sklearn.inspection import DecisionBoundaryDisplay\n",
    "\n",
    "# This makes matplotlib output nice figures without much tweaking\n",
    "plt.rcParams.update(\n",
    "    {\n",
    "        \"lines.markersize\": 10,  # Big points\n",
    "        \"font.size\": 15,  # Larger font\n",
    "        \"xtick.major.size\": 5.0,  # Bigger xticks\n",
    "        \"ytick.major.size\": 5.0,  # Bigger yticks\n",
    "    }\n",
    ")"
   ]
  },
  {
   "cell_type": "markdown",
   "id": "79726498",
   "metadata": {},
   "source": [
    "Given a training set of $N$ data point-target pairs $\\{(\\mathbf{x}^{(n)}, y^{(n)})\\}_{n=1}^{N}$ where $\\mathbf{x}\\in \\mathbb{R}^{D}$ and $y\\in \\mathbb{Z}^+_{<K} = \\{0,1,\\ldots,K-1\\}$ the goal in classification is to obtain a model that can predict the correct class (i.e. correct value of $y$) for each training point. Although, what we actually want is for the model to generalise to unseen test data!\n",
    "\n",
    "> **Note: I tend to use the terms linear classifier and linear model interchangeably for classification but if we're being rigorous, a linear classifier should refer to a linear model coupled with a choice of threshold function.**"
   ]
  },
  {
   "cell_type": "markdown",
   "id": "a8d691ca",
   "metadata": {},
   "source": [
    "### 6.1 Linear models for binary classification\n",
    "\n",
    "In a binary classification problem, there are two possible labels. These are typically either denoted as $y\\in \\{0,1\\}$ or $y\\in \\{-1,1\\}$ depending on what is most mathematically convenient.\n",
    "\n",
    "A linear model for binary classification looks very similar to a linear model for regression:\n",
    "\n",
    "\n",
    "\\begin{equation}f(\\mathbf{x}) = \\mathbf{w}^\\top \\mathbf{x} + b\\end{equation}\n",
    "\n",
    "> **When we write the maths for classification, we DON'T tend to prepend our data points with a $1$ as we did for regression. The bias parameter is typically made explicit.** \n",
    "\n",
    "$\\mathbf{w}\\in \\mathbb{R}^{D}$ is a vector of learnable weights and there is a learnable bias $b\\in\\mathbb{R}$.\n",
    "\n",
    "Once we have learnt the weights, $f(\\mathbf{x})\\in\\mathbb{R}$ can be used to make class predictions using some threshold function such as \n",
    "\n",
    "\n",
    "\\begin{equation}\\hat{y}=\\begin{cases}\n",
    "          1 \\quad &\\text{if} \\, f(\\mathbf{x}) \\geq0 \\\\\n",
    "          0 \\quad &\\text{if} \\, f(\\mathbf{x})<0 \\\\\n",
    "     \\end{cases}\\end{equation}\n",
    "     \n",
    "\n",
    "This leads to the important concept of a decision boundary. For the threshold function above, $f(\\mathbf{x})=0$ defines a hyperplane either side of which points will be put into different classes.\n",
    "\n",
    "In 2D, this is a line. By writing $\\mathbf{w}=\\begin{bmatrix}w_1&w_2\\end{bmatrix}^\\top$ and $\\mathbf{x}=\\begin{bmatrix}x_1&x_2\\end{bmatrix}^\\top$ we can rewrite $f(\\mathbf{x})$ in terms of scalar quantities:\n",
    "\n",
    "\\begin{equation}f(\\mathbf{x})= w_1 x_1 + w_2 x_2 + b \\end{equation}\n",
    "\n",
    "We can then set $f(\\mathbf{x})=0$ and rearrange to get the equation of a line which defines the decision boundary.\n",
    "\n",
    "\\begin{equation} x_2 = - \\frac{w_1}{w_2} x_1 - \\frac{b}{w_2} \\end{equation}\n",
    "\n"
   ]
  },
  {
   "cell_type": "markdown",
   "id": "abfad6d6",
   "metadata": {},
   "source": [
    "### 6.2 Logistic regression\n",
    "\n",
    "The parameters $\\mathbf{w},b$ of a linear classifier need to be learnt using training data. This boils down to defining a loss function $L$ and then solving $\\underset{\\mathbf{w},b}{\\mathrm{minimise}} L$. This process is usually referred to as fitting, learning, or training!\n",
    "\n",
    "\n",
    "\n",
    "We are going to focus on logistic regression which involves minimising the so-called log loss. The motivation is as follows: we don't just want $f(\\mathbf{x})$ to just tell us how a certain point should be classified, we would prefer that it captured some notion of uncertainty. Probabilities are ideal quantities for this purpose. However, $f(\\mathbf{x})$ cannot represent probabilities as it is unbounded; it can take values greater than 1 and less than 0 whereas probabilities must be between 0 and 1.\n",
    "\n",
    "Instead, we allow $f(\\mathbf{x})$ to represent some unbounded quantity that is *related* to a probability. Specifically, we define $f(\\mathbf{x})$ as the log-odds that a point $\\mathbf{x}$ is in class 1, which relates to $p(y=1|\\mathbf{x})$.\n",
    "\n",
    "\\begin{equation}f(\\mathbf{x}) = \\log\\frac{p(y=1 | \\mathbf{x})}{1-p(y=1 | \\mathbf{x})}\n",
    "\\end{equation}\n",
    "\n",
    "We can rearrange this expression to get $p(y=1|\\mathbf{x})$ in terms of log-odds:\n",
    "\n",
    "\\begin{equation}p(y=1 | \\mathbf{x}) = \\frac{1}{1+e^{-f(\\mathbf{x})}}=\\sigma({f(\\mathbf{x})})=\\sigma(\\mathbf{w}^\\top {\\mathbf{x}}+b)\\end{equation}"
   ]
  },
  {
   "cell_type": "markdown",
   "id": "35cf1b69",
   "metadata": {},
   "source": [
    "Here we have defined the sigmoid function as $\\sigma(z)=\\frac{1}{1+e^{-z}}$ which squashes unbounded quantities to be between 0 and 1."
   ]
  },
  {
   "cell_type": "code",
   "execution_count": 2,
   "id": "225b65a4",
   "metadata": {},
   "outputs": [
    {
     "data": {
      "text/plain": [
       "Text(0.5, 0, '$z$')"
      ]
     },
     "execution_count": 2,
     "metadata": {},
     "output_type": "execute_result"
    },
    {
     "data": {
      "image/png": "[encoded data removed]",
      "text/plain": [
       "<Figure size 432x288 with 1 Axes>"
      ]
     },
     "metadata": {
      "needs_background": "light"
     },
     "output_type": "display_data"
    }
   ],
   "source": [
    "z = np.linspace(-10, 10, 100)\n",
    "sigma_z = 1 / (1 + np.exp(-z))\n",
    "\n",
    "fig, ax = plt.subplots()\n",
    "ax.plot(z, sigma_z)\n",
    "ax.set_ylabel(\"$\\sigma (z)$\")\n",
    "ax.set_xlabel(\"$z$\")"
   ]
  },
  {
   "cell_type": "markdown",
   "id": "25842aeb",
   "metadata": {},
   "source": [
    "To make a prediction, it is sensible to classify a point $\\mathbf{x}$ as class $1$ if $p(y=1|\\mathbf{x})>p(y=0|\\mathbf{x})$ and as class $0$ otherwise. As there are two classes, $p(y=1|\\mathbf{x})+p(y=0|\\mathbf{x})=1$. This means that $p(y=1|\\mathbf{x})>p(y=0|\\mathbf{x})$ occurs when $p(y=1|\\mathbf{x})>0.5$. Our threshold function should therefore be\n",
    "\n",
    "\n",
    "\\begin{equation}\\hat{y}=\\begin{cases}\n",
    "          1 \\quad &\\text{if} \\, p(y=1 | \\mathbf{x})\\geq  0.5 \\\\\n",
    "          0 \\quad &\\text{if} \\, p(y=1 | \\mathbf{x})<0.5 \\\\\n",
    "     \\end{cases}\\end{equation}\n",
    "     \n",
    "\n",
    "     \n",
    "Noting that $p(y=1 | \\mathbf{x})=  0.5$ when $f(\\mathbf{x})=0$ let's us rewrite this in terms of the log-odds.\n",
    "\n",
    "\\begin{equation}\\hat{y}=\\begin{cases}\n",
    "          1 \\quad &\\text{if} \\, f(\\mathbf{x})\\geq  0\\\\\n",
    "          0 \\quad &\\text{if} \\, f(\\mathbf{x})<0\\\\\n",
    "     \\end{cases}\\end{equation}"
   ]
  },
  {
   "cell_type": "markdown",
   "id": "9213b66a",
   "metadata": {},
   "source": [
    "To derive the log loss itself, we start by noting that \n",
    "\n",
    "\\begin{equation}p(y=0|\\mathbf{x})=1 -\\sigma(f(\\mathbf{x}))\\end{equation}\n",
    "\n",
    "We can combine this with our expression for $p(y=1|\\mathbf{x})$ to succinctly write\n",
    "\n",
    "\\begin{equation}p(y | \\mathbf{x})= \\sigma(f(\\mathbf{x}))^{y}(1-\\sigma(f(\\mathbf{x}))^{1-y}\\end{equation}\n",
    "\n",
    "We can now consider the likelihood of our training data $\\{(\\mathbf{x}^{(n)}, y^{(n)})\\}_{n=1}^{N}$ according to the model. That is, the probability of the labels being $y^{(1)}, y^{(2)}, ... y^{(N)}$ given that the data points are $\\mathbf{x}^{(1)}, \\mathbf{x}^{(2)},..., \\mathbf{x}^{(N)}$. If we assume that data points are independent of each other then we can write the likelihood as:\n",
    "\n",
    "\\begin{equation} \\prod_n p(y^{(n)} | \\mathbf{x}^{(n)})=\\prod_n \\sigma(f(\\mathbf{x}^{(n)}))^{y^{(n)}}(1-\\sigma(f(\\mathbf{x}^{(n)}))^{1-y^{(n)}}\\end{equation}\n",
    "\n",
    "We want this quantity to be high. This is equivalent to making the **negative log** of this quantity low. We can further divide this by the number of data points as it has no effect on the optimisation problem. This gives us the negative log-likelihood, or **log loss**.\n",
    "\n",
    "\\begin{equation}\\mathrm{NLL}(\\mathbf{w},b)=- \\frac{1}{N}\\sum_n \\Big[y^{(n)} \\log \\sigma(f(\\mathbf{x}^{(n)}))+({1-y^{(n)}})\\log(1- \\sigma(f(\\mathbf{x}^{(n)})))\\Big]\\end{equation}\n",
    "\n",
    "We can make this more succinct by writing $p^{(n)}=\\sigma(f(\\mathbf{x}^{(n)}))$:\n",
    "\n",
    "\\begin{equation}L_{log}=- \\frac{1}{N}\\sum_n \\Big[y^{(n)} \\log p^{(n)}+({1-y^{(n)}})\\log(1- p^{(n)})\\Big]\\end{equation}\n",
    "\n",
    "Solving $\\underset{\\mathbf{w},b}{\\mathrm{minimise}} L_{log}$ is equivalent to performing logistic regression."
   ]
  },
  {
   "cell_type": "markdown",
   "id": "b5586abf",
   "metadata": {},
   "source": [
    "### 6.3 Logistic regression example\n",
    "\n",
    "After that mathematical pre-amble, let's look at a logistic regression model on some 2D dummy data.\n",
    "\n",
    "First, let's create and plot the data:"
   ]
  },
  {
   "cell_type": "code",
   "execution_count": 3,
   "id": "4888aa13",
   "metadata": {},
   "outputs": [
    {
     "data": {
      "text/plain": [
       "[]"
      ]
     },
     "execution_count": 3,
     "metadata": {},
     "output_type": "execute_result"
    },
    {
     "data": {
      "image/png": "[encoded data removed]",
      "text/plain": [
       "<Figure size 576x576 with 1 Axes>"
      ]
     },
     "metadata": {},
     "output_type": "display_data"
    }
   ],
   "source": [
    "np.random.seed(42)\n",
    "x0 = np.vstack((np.random.normal(1, 0.6, size=20), np.random.normal(1, 0.6, size=20))).T\n",
    "x1 = np.vstack(\n",
    "    (np.random.normal(-1, 0.6, size=20), np.random.normal(-1, 0.6, size=20))\n",
    ").T\n",
    "\n",
    "# Make plot\n",
    "fig, ax = plt.subplots(figsize=[8, 8])\n",
    "ax.scatter(x0[:, 0], x0[:, 1], color=\"b\", edgecolors=\"black\")\n",
    "ax.scatter(x1[:, 0], x1[:, 1], color=\"r\", marker=\"s\", edgecolors=\"black\")\n",
    "ax.set_xlabel(\"$x_1$\")\n",
    "ax.set_ylabel(\"$x_2$\")\n",
    "plt.legend([\"class 0\", \"class 1\"], loc=\"upper right\")\n",
    "ax.set_xticks([])\n",
    "ax.set_yticks([])"
   ]
  },
  {
   "cell_type": "markdown",
   "id": "7e5971fc",
   "metadata": {},
   "source": [
    "Now we can use a [LogisticRegression](https://scikit-learn.org/stable/modules/generated/sklearn.linear_model.LogisticRegression.html) object from sklearn to do the grunt work. This includes L2 regularisation in by default, so when we call `.fit` it is actually finding the parameters that minimise\n",
    "\n",
    "\\begin{equation} L= \\underbrace{L_{log}}_{classification}+ \\underbrace{ \\frac{\\lambda}{2} \\lVert \\mathbf{w}\\rVert^2 }_{regularisation}\\end{equation}\n",
    "\n",
    "where $\\lambda$ is the inverse of the `C` argument. "
   ]
  },
  {
   "cell_type": "code",
   "execution_count": 4,
   "id": "d46e4af2",
   "metadata": {},
   "outputs": [],
   "source": [
    "X = np.vstack((x0, x1))\n",
    "y = np.hstack((np.zeros(len(x0)), np.ones(len(x1))))\n",
    "\n",
    "model = LogisticRegression(random_state=0, C=1).fit(X, y)"
   ]
  },
  {
   "cell_type": "markdown",
   "id": "a842510b",
   "metadata": {},
   "source": [
    "Given some dummy point, we can see the predicted class labels and probabilities for class 0 and 1:\n",
    "    "
   ]
  },
  {
   "cell_type": "code",
   "execution_count": 5,
   "id": "5e4e8650",
   "metadata": {},
   "outputs": [
    {
     "name": "stdout",
     "output_type": "stream",
     "text": [
      "[0.]\n",
      "[[0.85950422 0.14049578]]\n"
     ]
    }
   ],
   "source": [
    "x_dummy = np.array([0, 1]).reshape(1, -1)\n",
    "\n",
    "print(model.predict(x_dummy))\n",
    "print(model.predict_proba(x_dummy))"
   ]
  },
  {
   "cell_type": "markdown",
   "id": "5cdc09a3",
   "metadata": {},
   "source": [
    "We can also see its learnt parameters:"
   ]
  },
  {
   "cell_type": "code",
   "execution_count": 6,
   "id": "928c7702",
   "metadata": {},
   "outputs": [
    {
     "name": "stdout",
     "output_type": "stream",
     "text": [
      "w:[-1.75890498 -1.56921751]\n",
      "b:-0.24196077436765434\n"
     ]
    }
   ],
   "source": [
    "print(f\"w:{model.coef_[0]}\")\n",
    "print(f\"b:{model.intercept_[0]}\")"
   ]
  },
  {
   "cell_type": "markdown",
   "id": "56a9b597",
   "metadata": {},
   "source": [
    "We can use sklearn's [DecisionBoundaryDisplay](https://scikit-learn.org/stable/modules/generated/sklearn.inspection.DecisionBoundaryDisplay.html) to show the decision boundary of the classifier alongside the training data."
   ]
  },
  {
   "cell_type": "code",
   "execution_count": 7,
   "id": "d7883931",
   "metadata": {},
   "outputs": [
    {
     "data": {
      "image/png": "[encoded data removed]",
      "text/plain": [
       "<Figure size 576x576 with 1 Axes>"
      ]
     },
     "metadata": {},
     "output_type": "display_data"
    }
   ],
   "source": [
    "# Make plot\n",
    "fig, ax = plt.subplots(figsize=[8, 8])\n",
    "\n",
    "ax.scatter(x0[:, 0], x0[:, 1], color=\"b\", edgecolors=\"black\")\n",
    "ax.scatter(x1[:, 0], x1[:, 1], color=\"r\", marker=\"s\", edgecolors=\"black\")\n",
    "ax.set_xlabel(\"$x_1$\")\n",
    "ax.set_ylabel(\"$x_2$\")\n",
    "plt.legend([\"class 0\", \"class 1\"], loc=\"upper right\")\n",
    "ax.set_xticks([])\n",
    "ax.set_yticks([])\n",
    "colours = [\"b\", \"r\"]\n",
    "\n",
    "# Plot decision boundary\n",
    "disp = DecisionBoundaryDisplay.from_estimator(\n",
    "    model,\n",
    "    X,\n",
    "    response_method=\"predict\",\n",
    "    alpha=0.3,\n",
    "    grid_resolution=200,\n",
    "    cmap=ListedColormap(colours),\n",
    "    ax=ax,\n",
    ")"
   ]
  },
  {
   "cell_type": "markdown",
   "id": "fcd90972",
   "metadata": {},
   "source": [
    "In the lab, you will consider lines that correspond to certain probabilities of the model."
   ]
  },
  {
   "cell_type": "markdown",
   "id": "6cc5caf6",
   "metadata": {},
   "source": [
    "### 6.4 Perceptrons [Optional]\n",
    "\n",
    "A perceptron is an obsolete, but historically significant classifier. There is no reason why you should use it but it is [available in sklearn](https://scikit-learn.org/stable/modules/generated/sklearn.linear_model.Perceptron.html)!\n",
    "\n",
    "It is a linear model $f(\\mathbf{x}) = \\mathbf{w}^\\top \\mathbf{x} + b$ whose weights and biases have been learnt through the perceptron algorithm.\n",
    "\n",
    "Assuming that the labels are given by $y\\in \\{-1,1\\}$, we will use the threshold function  $\\hat{y}=\\begin{cases}\n",
    "          1 \\quad &\\text{if} \\, f(\\mathbf{x}) \\geq0 \\\\\n",
    "          -1 \\quad &\\text{if} \\, f(\\mathbf{x})<0 \\\\\n",
    "     \\end{cases}$\n",
    "\n",
    "If $\\hat{y}^{(n)}$ is our class prediction for some training point $\\mathbf{x}^{(n)}$ then we want \n",
    "\n",
    "$$f(\\mathbf{x}^{(n)}) = \\mathbf{w}^\\top \\mathbf{x}^{(n)}+b\\quad\\text{s.t.} \\quad\\hat{y}^{(n)}=\\begin{cases}\n",
    "          1 \\quad &\\text{if} \\, f(\\mathbf{x}^{(n)}) \\geq  0 \\\\\n",
    "          -1 \\quad &\\text{if} \\, f(\\mathbf{x}^{(n)})<0 \\\\\n",
    "     \\end{cases}\\forall n\n",
    "$$\n",
    "\n",
    "For the perceptron learning algorithm we iterate through shuffled training data and if some point $\\mathbf{x}^{(n)}$ is misclassified using the threshold function we update \n",
    "\n",
    "1. $\\mathbf{w} \\leftarrow \\mathbf{w} + \\alpha\\,y^{(n)} \\mathbf{x}^{(n)}$\n",
    "2. $b \\leftarrow b + \\alpha\\,y^{(n)}$\n",
    "\n",
    "\n",
    "The perceptron algorithm is simply equivalent to minimising a hinge loss through SGD.\n",
    "\n",
    "\\begin{equation}L_{hinge}= \\frac{1}{N}\\sum_n \\max\\Bigl(0, -y^{(n)} f(\\mathbf{x}^{(n)})\\Bigl)\\end{equation}"
   ]
  },
  {
   "cell_type": "markdown",
   "id": "9519a14a",
   "metadata": {},
   "source": [
    "### 6.5 Support Vector Machines\n",
    "\n",
    "In the first year that this course ran, there was a whole lecture on SVMs! I've since decided to cut this out. All you need to know for this course this year is that SVMs are linear models that are obtained by solving $\\underset{\\mathbf{w},b}{\\mathrm{minimise}} L_{SVM}$ where \n",
    "\n",
    "\\begin{equation}L_{SVM}= \\frac{1}{2}\\lVert \\mathbf{w}\\lVert^2 +C\\sum_n  \\max\\Bigl(0, 1-y^{(n)} f(\\mathbf{x}^{(n)})\\Bigl)\\end{equation}\n",
    "\n",
    "This encourages the distance from the decision boundary to the nearest points from each class (the margin) to be large, so that small perturbations in data don't result in a completely different classification. A logistic regression model with sufficient regularisation also has a large margin.\n",
    "\n",
    "SVMs are available in sklearn through the [LinearSVC](https://scikit-learn.org/stable/modules/generated/sklearn.svm.LinearSVC.html) class."
   ]
  },
  {
   "cell_type": "markdown",
   "id": "d98a7a53",
   "metadata": {},
   "source": [
    "### 6.6 Multinomial Logistic Regression\n",
    "\n",
    "While there are several strategies for performing multi-class classification ($y\\in \\mathbb{Z}^+_{<K} = \\{0,1,\\ldots,K-1\\}$ ) involving combining binary classfiers, it is simplest to use a model that gives a vector output $f(\\mathbf{\\mathbf{x}})\\in\\mathbb{R}^{K}$where elements correspond to classification scores for different classes.\n",
    "\n",
    "This can be achieved by writing the linear model as \n",
    "\n",
    "\\begin{equation}f(\\mathbf{x}) = \\mathbf{W}\\mathbf{x}+\\mathbf{b}\\end{equation} \n",
    "\n",
    "where $\\mathbf{W}\\in \\mathbb{R}^{K\\times D}$ and $\\mathbf{b}\\in \\mathbb{R}^{K}$. You can view this as being like $K$ classifiers side-by-side as each row of the matrix $\\mathbf{W}$ plus the corresponding element of $b$ is the classifier score for a particular class.\n",
    "\n",
    "In Multinomial logistic regression, we define each element of $f(\\mathbf{\\mathbf{x}})$ as being the **logit** for a particular class. This is an unnormalised log-probability, and may be seen as a generalisation of the log-odds to this multiclass setting.\n",
    "\n",
    "We relate these logits to class probabilities through a squashing function called a softmax.\n",
    "\n",
    "\\begin{equation}\n",
    "\\mathbf{p}=\\begin{bmatrix}\n",
    "p(y=0 | \\mathbf{x})\\\\\n",
    "p(y=1 | \\mathbf{x})\\\\\n",
    "p(y=2 | \\mathbf{x})\\\\\n",
    "\\vdots \\\\ \n",
    "p(y=K-1 | \\mathbf{x})\n",
    "\\end{bmatrix}\n",
    "= S (f(\\mathbf{x}))\n",
    "\\end{equation}\n",
    "\n",
    "where\n",
    "\n",
    "\\begin{equation}S(\\mathbf{z})=S(\\begin{bmatrix}\n",
    "z_0\\\\\n",
    "z_1\\\\\n",
    "\\vdots \\\\ \n",
    "z_{K-1}\n",
    "\\end{bmatrix}) = \n",
    "\\begin{bmatrix}\n",
    "\\frac{\\exp z_0}{\\sum_{k=0}^{K-1}\\exp z_k}\\\\\n",
    "\\frac{\\exp z_1}{\\sum_{k=0}^{K-1}\\exp z_k}\\\\\n",
    "\\vdots \\\\ \n",
    "\\frac{\\exp z_{K-1}}{\\sum_{k=0}^{K-1}\\exp z_k}\\\\ \n",
    "\\end{bmatrix}\\end{equation}\n",
    "\n",
    "In short, the softmax function $S$ turns a vector of logits into a vector of probabilities that sum to 1.\n",
    "\n",
    "The likelihood (again assuming indepedence between data points) is now given by\n",
    "\n",
    "\\begin{equation}\\prod_{n=1}^{N}\\prod_{k=0}^{K-1}p(y^{(n)}=k | \\mathbf{x}^{(n)})^{\\mathbb{I}(y^{(n)}=k)}\\end{equation}\n",
    "\n",
    "$\\mathbb{I}(y^{(n)}=k)$ is an indicator function that outputs 1 if $y^{(n)}=k$ and 0 otherwise.\n",
    "\n",
    "From this, we may write the log-likelihood (divided by the number of data points) as\n",
    "\n",
    "\\begin{equation}\\mathrm{NLL}(\\mathbf{w},b)= -\\frac{1}{N }\\sum_{n=1}^{N}\\sum_{k=0}^{K-1}\\mathbb{I}(y^{(n)}=k)\\log p(y^{(n)}=k | \\mathbf{x}^{(n)})\\end{equation}"
   ]
  },
  {
   "cell_type": "markdown",
   "id": "79d03390",
   "metadata": {},
   "source": [
    "This is a bit verbose. To succinctly write out the NLL, we will use a one-hot vector representation for each class label. This means each class label is now a vector $\\mathbf{y}$ which is 1 for the element corresponding to its class, and zero elsewhere. For example, if we had 4 classes and $y^{(t)}$ was labelled as class 2 we would write $\\mathbf{y}^{(t)}=\\begin{bmatrix} 0&0&1&0\\end{bmatrix}^\\top$ (recalling that we count from zero when it comes to classes). This gives us the NLL, or log loss in the succinct form of\n",
    "\n",
    "\\begin{equation}L_{log} = \\frac{1}{N}\\sum_{n} -\\mathbf{y}^{(n)\\top}\\log \\mathbf{p}^{(n)}\\end{equation}\n",
    "\n",
    "Sklearn will automatically use multinomial logistic regression if you call `.fit` with data where there are more than 2 class labels."
   ]
  },
  {
   "cell_type": "markdown",
   "id": "767c842c",
   "metadata": {},
   "source": [
    "<hr style=\"border:2px solid black\"> </hr>\n",
    "\n",
    "#### Written by Elliot J. Crowley and &copy; The University of Edinburgh 2022-24"
   ]
  }
 ],
 "metadata": {
  "kernelspec": {
   "display_name": "Python 3 (ipykernel)",
   "language": "python",
   "name": "python3"
  },
  "language_info": {
   "codemirror_mode": {
    "name": "ipython",
    "version": 3
   },
   "file_extension": ".py",
   "mimetype": "text/x-python",
   "name": "python",
   "nbconvert_exporter": "python",
   "pygments_lexer": "ipython3",
   "version": "3.9.12"
  }
 },
 "nbformat": 4,
 "nbformat_minor": 5
}
